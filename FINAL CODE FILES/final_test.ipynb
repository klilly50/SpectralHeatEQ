{
 "cells": [
  {
   "cell_type": "code",
   "execution_count": 60,
   "id": "318be522",
   "metadata": {},
   "outputs": [
    {
     "data": {
      "text/plain": [
       "pretty_print_4Darray_matlab_style (generic function with 1 method)"
      ]
     },
     "execution_count": 60,
     "metadata": {},
     "output_type": "execute_result"
    }
   ],
   "source": [
    "include(\"exact_sln_function.jl\")\n",
    "include(\"functions.jl\")"
   ]
  },
  {
   "cell_type": "markdown",
   "id": "97f9fca3",
   "metadata": {},
   "source": [
    "# Initial Condition"
   ]
  },
  {
   "cell_type": "code",
   "execution_count": 71,
   "id": "584fd63d",
   "metadata": {},
   "outputs": [],
   "source": [
    "using SpecialFunctions\n",
    "\n",
    "w54 = 18.98013387517992112  # 4th root of the J-Bessel function of order 5\n",
    "w33 = 13.0152007216984344   # 3rd root of the J-Bessel function of order 5\n",
    "q1 = 3                      # Oscillation in z.\n",
    "q2 = 2\n",
    "\n",
    "dt = 1e-9\n",
    "\n",
    "u(r, z, th, t) = 10*exp(-((pi*q1)^2 + w33^2)*t) .* sin.(q1*pi*z) .* besselj.(3, w33 .* r) .* sin.(3*th) .+ exp(-((pi*q2)^2 + w54^2)*t) .* sin.(q2*pi*z) .* besselj.(5, w54 .* r) .* cos.(5*th);\n",
    "finit(r,z,th,t) = u(r,z,th,0);\n",
    "\n",
    "f(r,z,th) = u(r,z,th,(T-1)*dt);\n"
   ]
  },
  {
   "cell_type": "markdown",
   "id": "85c9ad4c",
   "metadata": {},
   "source": [
    "# Function Testing"
   ]
  },
  {
   "cell_type": "code",
   "execution_count": null,
   "id": "b283bf89",
   "metadata": {},
   "outputs": [
    {
     "name": "stdout",
     "output_type": "stream",
     "text": [
      "  1.699733 seconds (4.11 M allocations: 429.484 MiB, 4.17% gc time, 91.19% compilation time: 22% of which was recompilation)\n",
      "[1.6635749156002055e194;;]\n"
     ]
    }
   ],
   "source": [
    "N = 7 # first of N values. N = 7, 11, 15, 19\n",
    "\n",
    "T = 200  # matches T used in the data_generation file\n",
    "\n",
    "alph = dt\n",
    "\n",
    "@time sln = exactsln(finit,N,T,alph);\n",
    "\n",
    "ERR = zeros(1, 1) # pre-allocate\n",
    "\n",
    "exact = func2grid(f, N, \"rzt\", missing) # missing variable bc different # of assigned variables\n",
    "ERR[1,1] = norm(exact[:]-reshape(sln[:,:,:,T], N^3,1),Inf)/norm(exact[:], Inf);\n",
    "\n",
    "println(ERR) #... ERROR IS SO BIG!!! "
   ]
  }
 ],
 "metadata": {
  "kernelspec": {
   "display_name": "Julia 1.11.4",
   "language": "julia",
   "name": "julia-1.11"
  },
  "language_info": {
   "file_extension": ".jl",
   "mimetype": "application/julia",
   "name": "julia",
   "version": "1.11.4"
  }
 },
 "nbformat": 4,
 "nbformat_minor": 5
}
