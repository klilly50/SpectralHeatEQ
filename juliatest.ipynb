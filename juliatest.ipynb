{
 "cells": [
  {
   "cell_type": "code",
   "execution_count": 3,
   "metadata": {},
   "outputs": [
    {
     "name": "stdout",
     "output_type": "stream",
     "text": [
      "Hello from Julia in Jupyter!\n"
     ]
    }
   ],
   "source": [
    "println(\"Hello from Julia in Jupyter!\")"
   ]
  },
  {
   "cell_type": "code",
   "execution_count": null,
   "metadata": {},
   "outputs": [
    {
     "data": {
      "text/plain": [
       "Int64"
      ]
     },
     "execution_count": 5,
     "metadata": {},
     "output_type": "execute_result"
    }
   ],
   "source": [
    "my_answer = 42 # don't need to specify type of variables, dynamic typing\n",
    "typeof(my_answer)"
   ]
  },
  {
   "cell_type": "code",
   "execution_count": 6,
   "metadata": {},
   "outputs": [
    {
     "data": {
      "text/plain": [
       "Float64"
      ]
     },
     "execution_count": 6,
     "metadata": {},
     "output_type": "execute_result"
    }
   ],
   "source": [
    "my_pi = 3.14159\n",
    "typeof(my_pi)"
   ]
  },
  {
   "cell_type": "code",
   "execution_count": 9,
   "metadata": {},
   "outputs": [
    {
     "data": {
      "text/plain": [
       "String"
      ]
     },
     "execution_count": 9,
     "metadata": {},
     "output_type": "execute_result"
    }
   ],
   "source": [
    "😸 = \"smiley cat!\"\n",
    "typeof(😸)"
   ]
  },
  {
   "cell_type": "code",
   "execution_count": 10,
   "metadata": {},
   "outputs": [
    {
     "data": {
      "text/plain": [
       "Int64"
      ]
     },
     "execution_count": 10,
     "metadata": {},
     "output_type": "execute_result"
    }
   ],
   "source": [
    "😸 = 1\n",
    "typeof(😸)"
   ]
  },
  {
   "cell_type": "code",
   "execution_count": 13,
   "metadata": {},
   "outputs": [
    {
     "name": "stdout",
     "output_type": "stream",
     "text": [
      "this is not a comment\n"
     ]
    }
   ],
   "source": [
    "1 + 0 == 1\n",
    "\n",
    "#=\n",
    "this is a multi-line comment\n",
    "=#\n",
    "\n",
    "println(\"this is not a comment\")\n",
    "\n",
    "# while this is a single line comment"
   ]
  },
  {
   "cell_type": "code",
   "execution_count": 18,
   "metadata": {},
   "outputs": [
    {
     "name": "stdout",
     "output_type": "stream",
     "text": [
      "this is field 1: Hello\n",
      "this is field 2: World\n"
     ]
    }
   ],
   "source": [
    "struct MyObj\n",
    "    field1\n",
    "    field2\n",
    "end\n",
    "\n",
    "myobj1=MyObj(\"Hello\", \"World\")\n",
    "println(\"this is field 1: \", myobj1.field1)\n",
    "println(\"this is field 2: \", myobj1.field2)\n",
    "# fields are immutable, so struct values cannot change"
   ]
  },
  {
   "cell_type": "code",
   "execution_count": 23,
   "metadata": {},
   "outputs": [
    {
     "name": "stdout",
     "output_type": "stream",
     "text": [
      "the person's name is: Srishti\n",
      "the person's age is: 19.0\n",
      "but then her birthday passes\n",
      "the person's age is now: 20.0\n"
     ]
    }
   ],
   "source": [
    "# mutable struct\n",
    "mutable struct Person\n",
    "    name::String\n",
    "    age::Float64\n",
    "end\n",
    "\n",
    "person = Person(\"Srishti\", 19)\n",
    "println(\"the person's name is: \", person.name)\n",
    "println(\"the person's age is: \", person.age)\n",
    "\n",
    "println(\"but then her birthday passes\")\n",
    "person.age += 1\n",
    "println(\"the person's age is now: \", person.age)\n"
   ]
  },
  {
   "cell_type": "code",
   "execution_count": 35,
   "metadata": {},
   "outputs": [
    {
     "name": "stdout",
     "output_type": "stream",
     "text": [
      "is Srishti active? true\n"
     ]
    }
   ],
   "source": [
    "mutable struct ActivePerson\n",
    "    name::String\n",
    "    age::Float64\n",
    "    isActive::Bool\n",
    "\n",
    "    function ActivePerson(name, age) # when you only pass in the name and age\n",
    "        new(name, age, true) # assume the person is active\n",
    "    end\n",
    "end\n",
    "\n",
    "newPerson = ActivePerson(\"Srishti\", 19)\n",
    "println(\"is \", newPerson.name, \" active? \", newPerson.isActive)"
   ]
  },
  {
   "cell_type": "code",
   "execution_count": null,
   "metadata": {},
   "outputs": [
    {
     "name": "stdout",
     "output_type": "stream",
     "text": [
      "26.0"
     ]
    }
   ],
   "source": [
    "function birthday(person::Person)\n",
    "    person.age += 1\n",
    "end\n",
    "\n",
    "birthday(person) # ran this 6 times hence 20+6=26\n",
    "print(person.age)"
   ]
  },
  {
   "cell_type": "code",
   "execution_count": 46,
   "metadata": {},
   "outputs": [
    {
     "name": "stdout",
     "output_type": "stream",
     "text": [
      "1\n",
      "2\n",
      "Fizz\n",
      "4\n",
      "Buzz\n",
      "Fizz\n",
      "7\n",
      "8\n",
      "Fizz\n",
      "Buzz\n",
      "11\n",
      "Fizz\n",
      "13\n",
      "14\n",
      "FizzBuzz\n"
     ]
    }
   ],
   "source": [
    "function fizzbuzz(n)\n",
    "    for i in 1:n\n",
    "        if (i % 3 == 0 && i % 5 == 0)\n",
    "            println(\"FizzBuzz\")\n",
    "        elseif (i % 3 == 0)\n",
    "            println(\"Fizz\")\n",
    "        elseif (i % 5 == 0)\n",
    "            println(\"Buzz\")\n",
    "        else\n",
    "            println(i)\n",
    "        end\n",
    "    end\n",
    "end\n",
    "\n",
    "fizzbuzz(15)"
   ]
  },
  {
   "cell_type": "code",
   "execution_count": 48,
   "metadata": {},
   "outputs": [
    {
     "name": "stdout",
     "output_type": "stream",
     "text": [
      "Any[2, 3, 5, 7, 11, 13, 17, 19, 23, 29]"
     ]
    }
   ],
   "source": [
    "function is_prime(x)\n",
    "    if x < 2 # 1 is not prime\n",
    "        return false\n",
    "    end\n",
    "    for i in 2:floor(Int, sqrt(x)) # check divisibility by 2 up to the sqrt but the int rounded down version\n",
    "        if x % i == 0 # it is divisible by something other than 1\n",
    "            return false # so it is not prime and we can stop checking further divisibility\n",
    "        end\n",
    "        # otherwise, keep checking divisibility\n",
    "    end\n",
    "    return true # if we reach here, this means we never found something other than 1 that x is divisible by, so it is prime\n",
    "end\n",
    "\n",
    "function get_primes(n)\n",
    "    primes = []\n",
    "    for i in 2:n\n",
    "        if is_prime(i) # returns true or false, so if true then it is prime\n",
    "            push!(primes, i) # and add it to the primes array\n",
    "        end\n",
    "    end\n",
    "    return primes\n",
    "end\n",
    "\n",
    "print(get_primes(30))"
   ]
  }
 ],
 "metadata": {
  "kernelspec": {
   "display_name": "Julia 1.11.4",
   "language": "julia",
   "name": "julia-1.11"
  },
  "language_info": {
   "file_extension": ".jl",
   "mimetype": "application/julia",
   "name": "julia",
   "version": "1.11.4"
  }
 },
 "nbformat": 4,
 "nbformat_minor": 2
}
