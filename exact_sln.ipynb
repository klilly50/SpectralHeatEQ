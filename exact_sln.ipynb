{
 "cells": [
  {
   "cell_type": "code",
   "execution_count": 1,
   "id": "17c7e8b1",
   "metadata": {},
   "outputs": [
    {
     "data": {
      "text/plain": [
       "4×1 reshape(::StepRangeLen{Float64, Base.TwicePrecision{Float64}, Base.TwicePrecision{Float64}, Int64}, 4, 1) with eltype Float64:\n",
       " -3.141592653589793\n",
       " -1.5707963267948966\n",
       "  0.0\n",
       "  1.5707963267948966"
      ]
     },
     "metadata": {},
     "output_type": "display_data"
    },
    {
     "data": {
      "text/plain": [
       "4-element Vector{Float64}:\n",
       " -1.0\n",
       " -0.4999999999999998\n",
       "  0.5000000000000001\n",
       "  1.0"
      ]
     },
     "metadata": {},
     "output_type": "display_data"
    },
    {
     "data": {
      "text/plain": [
       "4-element Vector{Float64}:\n",
       " -1.0\n",
       " -0.4999999999999998\n",
       "  0.5000000000000001\n",
       "  1.0"
      ]
     },
     "metadata": {},
     "output_type": "display_data"
    }
   ],
   "source": [
    "# setting the N value\n",
    "\n",
    "N = 4;\n",
    "\n",
    "# points in t direction\n",
    "# trigpts returns N equally spaced points on an interval -1 to 1\n",
    "# range is kind of like linspace! the length\n",
    "\n",
    "t = pi* range(-1,1, length=N+1)[1:end-1];\n",
    "t = reshape(t,:,1)\n",
    "\n",
    "\n",
    "# chebpts returns chebyshev points of the second kind\n",
    "# generates N+1 cheb pts in the interval [-1, 1], so includes endpoints\n",
    "# points are clustered near the endpoints\n",
    "\n",
    "r = [cos((pi*k)/(N-1)) for k in (N-1):-1:0];\n",
    "z = [cos((pi*k)/(N-1)) for k in (N-1):-1:0];\n",
    "\n",
    "\n",
    "# going from N-1 to 0 ensures that endpoints are included bc when you \n",
    "#plug in (N-1) and 0 into the formula, you get the endpoints included -1 and 1 regardless of N\n",
    "# cosine part is just a formula for cheb pts of second kind\n",
    "\n",
    "display(t)\n",
    "display(z)\n",
    "display(r)"
   ]
  },
  {
   "cell_type": "code",
   "execution_count": 2,
   "id": "c016c20f",
   "metadata": {},
   "outputs": [
    {
     "data": {
      "text/plain": [
       "4×4 Matrix{Float64}:\n",
       " -1.0  -1.0  -1.0  -1.0\n",
       " -0.5  -0.5  -0.5  -0.5\n",
       "  0.5   0.5   0.5   0.5\n",
       "  1.0   1.0   1.0   1.0"
      ]
     },
     "metadata": {},
     "output_type": "display_data"
    },
    {
     "data": {
      "text/plain": [
       "4×4 Matrix{Float64}:\n",
       " -1.0  -0.5  0.5  1.0\n",
       " -1.0  -0.5  0.5  1.0\n",
       " -1.0  -0.5  0.5  1.0\n",
       " -1.0  -0.5  0.5  1.0"
      ]
     },
     "metadata": {},
     "output_type": "display_data"
    }
   ],
   "source": [
    "# now to make the grid! this was a bit incorrect because we need the different layers? \n",
    "#I found a package that works better!\n",
    "\n",
    "# tt = \n",
    "rr = hcat([r for _ in 1:N]...)\n",
    "zz = vcat([transpose(z) for _ in 1:N]...)\n",
    " \n",
    "display(rr)\n",
    "display(zz)"
   ]
  },
  {
   "cell_type": "code",
   "execution_count": 3,
   "id": "c61c2926",
   "metadata": {},
   "outputs": [
    {
     "data": {
      "text/plain": [
       "4×4×4×1 Array{Float64, 4}:\n",
       "[:, :, 1, 1] =\n",
       " -1.0  -1.0  -1.0  -1.0\n",
       " -0.5  -0.5  -0.5  -0.5\n",
       "  0.5   0.5   0.5   0.5\n",
       "  1.0   1.0   1.0   1.0\n",
       "\n",
       "[:, :, 2, 1] =\n",
       " -1.0  -1.0  -1.0  -1.0\n",
       " -0.5  -0.5  -0.5  -0.5\n",
       "  0.5   0.5   0.5   0.5\n",
       "  1.0   1.0   1.0   1.0\n",
       "\n",
       "[:, :, 3, 1] =\n",
       " -1.0  -1.0  -1.0  -1.0\n",
       " -0.5  -0.5  -0.5  -0.5\n",
       "  0.5   0.5   0.5   0.5\n",
       "  1.0   1.0   1.0   1.0\n",
       "\n",
       "[:, :, 4, 1] =\n",
       " -1.0  -1.0  -1.0  -1.0\n",
       " -0.5  -0.5  -0.5  -0.5\n",
       "  0.5   0.5   0.5   0.5\n",
       "  1.0   1.0   1.0   1.0"
      ]
     },
     "metadata": {},
     "output_type": "display_data"
    },
    {
     "data": {
      "text/plain": [
       "4×4×4×1 Array{Float64, 4}:\n",
       "[:, :, 1, 1] =\n",
       " -1.0  -0.5  0.5  1.0\n",
       " -1.0  -0.5  0.5  1.0\n",
       " -1.0  -0.5  0.5  1.0\n",
       " -1.0  -0.5  0.5  1.0\n",
       "\n",
       "[:, :, 2, 1] =\n",
       " -1.0  -0.5  0.5  1.0\n",
       " -1.0  -0.5  0.5  1.0\n",
       " -1.0  -0.5  0.5  1.0\n",
       " -1.0  -0.5  0.5  1.0\n",
       "\n",
       "[:, :, 3, 1] =\n",
       " -1.0  -0.5  0.5  1.0\n",
       " -1.0  -0.5  0.5  1.0\n",
       " -1.0  -0.5  0.5  1.0\n",
       " -1.0  -0.5  0.5  1.0\n",
       "\n",
       "[:, :, 4, 1] =\n",
       " -1.0  -0.5  0.5  1.0\n",
       " -1.0  -0.5  0.5  1.0\n",
       " -1.0  -0.5  0.5  1.0\n",
       " -1.0  -0.5  0.5  1.0"
      ]
     },
     "metadata": {},
     "output_type": "display_data"
    },
    {
     "data": {
      "text/plain": [
       "4×4×4×1 Array{Float64, 4}:\n",
       "[:, :, 1, 1] =\n",
       " -3.14159  -3.14159  -3.14159  -3.14159\n",
       " -3.14159  -3.14159  -3.14159  -3.14159\n",
       " -3.14159  -3.14159  -3.14159  -3.14159\n",
       " -3.14159  -3.14159  -3.14159  -3.14159\n",
       "\n",
       "[:, :, 2, 1] =\n",
       " -1.5708  -1.5708  -1.5708  -1.5708\n",
       " -1.5708  -1.5708  -1.5708  -1.5708\n",
       " -1.5708  -1.5708  -1.5708  -1.5708\n",
       " -1.5708  -1.5708  -1.5708  -1.5708\n",
       "\n",
       "[:, :, 3, 1] =\n",
       " 0.0  0.0  0.0  0.0\n",
       " 0.0  0.0  0.0  0.0\n",
       " 0.0  0.0  0.0  0.0\n",
       " 0.0  0.0  0.0  0.0\n",
       "\n",
       "[:, :, 4, 1] =\n",
       " 1.5708  1.5708  1.5708  1.5708\n",
       " 1.5708  1.5708  1.5708  1.5708\n",
       " 1.5708  1.5708  1.5708  1.5708\n",
       " 1.5708  1.5708  1.5708  1.5708"
      ]
     },
     "metadata": {},
     "output_type": "display_data"
    }
   ],
   "source": [
    "# same row vector vertical stacked\n",
    "rr = [ri for ri in r, zi in z, ti in t]\n",
    "\n",
    "# same column vector horizontal stacked\n",
    "zz = [zi for ri in r, zi in z, ti in t]\n",
    "\n",
    "# every entry in a matrix the same, but each layer has different value\n",
    "tt = [ti for ri in r, zi in z, ti in t]\n",
    "\n",
    "display(rr)\n",
    "display(zz)\n",
    "display(tt)\n"
   ]
  },
  {
   "cell_type": "code",
   "execution_count": 9,
   "id": "a3463d73",
   "metadata": {},
   "outputs": [
    {
     "name": "stdout",
     "output_type": "stream",
     "text": [
      "C01:\n"
     ]
    },
    {
     "data": {
      "text/plain": [
       "4×4 SparseMatrixCSC{Float64, Int64} with 6 stored entries:\n",
       " 1.0   ⋅   -0.5    ⋅ \n",
       "  ⋅   0.5    ⋅   -0.5\n",
       "  ⋅    ⋅    0.5    ⋅ \n",
       "  ⋅    ⋅     ⋅    0.5"
      ]
     },
     "metadata": {},
     "output_type": "display_data"
    },
    {
     "name": "stdout",
     "output_type": "stream",
     "text": [
      "C12:\n"
     ]
    },
    {
     "data": {
      "text/plain": [
       "4×4 SparseMatrixCSC{Float64, Int64} with 6 stored entries:\n",
       " 1.0   ⋅   -0.333333    ⋅ \n",
       "  ⋅   0.5    ⋅        -0.25\n",
       "  ⋅    ⋅    0.333333    ⋅ \n",
       "  ⋅    ⋅     ⋅         0.25"
      ]
     },
     "metadata": {},
     "output_type": "display_data"
    },
    {
     "name": "stdout",
     "output_type": "stream",
     "text": [
      "C02:\n"
     ]
    },
    {
     "data": {
      "text/plain": [
       "4×4 SparseMatrixCSC{Float64, Int64} with 6 stored entries:\n",
       " 1.0   ⋅    -0.5         ⋅ \n",
       "  ⋅   0.25    ⋅        -0.25\n",
       "  ⋅    ⋅     0.166667    ⋅ \n",
       "  ⋅    ⋅      ⋅         0.125"
      ]
     },
     "metadata": {},
     "output_type": "display_data"
    },
    {
     "name": "stdout",
     "output_type": "stream",
     "text": [
      "D1: \n"
     ]
    },
    {
     "data": {
      "text/plain": [
       "4×4 SparseMatrixCSC{Int64, Int64} with 3 stored entries:\n",
       " ⋅  1  ⋅  ⋅\n",
       " ⋅  ⋅  2  ⋅\n",
       " ⋅  ⋅  ⋅  3\n",
       " ⋅  ⋅  ⋅  ⋅"
      ]
     },
     "metadata": {},
     "output_type": "display_data"
    },
    {
     "name": "stdout",
     "output_type": "stream",
     "text": [
      "D2: \n"
     ]
    },
    {
     "data": {
      "text/plain": [
       "4×4 SparseMatrixCSC{Int64, Int64} with 2 stored entries:\n",
       " ⋅  ⋅  4  ⋅\n",
       " ⋅  ⋅  ⋅  6\n",
       " ⋅  ⋅  ⋅  ⋅\n",
       " ⋅  ⋅  ⋅  ⋅"
      ]
     },
     "metadata": {},
     "output_type": "display_data"
    },
    {
     "name": "stdout",
     "output_type": "stream",
     "text": [
      "D0: \n"
     ]
    },
    {
     "data": {
      "text/plain": [
       "4×4 Matrix{Float64}:\n",
       " 0.0  1.0  0.0  3.0\n",
       " 0.0  0.0  4.0  0.0\n",
       " 0.0  0.0  0.0  6.0\n",
       " 0.0  0.0  0.0  0.0"
      ]
     },
     "metadata": {},
     "output_type": "display_data"
    },
    {
     "name": "stdout",
     "output_type": "stream",
     "text": [
      "R0:\n"
     ]
    },
    {
     "data": {
      "text/plain": [
       "4×4 SparseMatrixCSC{Float64, Int64} with 6 stored entries:\n",
       "  ⋅   0.5   ⋅    ⋅ \n",
       " 1.0   ⋅   0.5   ⋅ \n",
       "  ⋅   0.5   ⋅   0.5\n",
       "  ⋅    ⋅   0.5   ⋅ "
      ]
     },
     "metadata": {},
     "output_type": "display_data"
    },
    {
     "name": "stdout",
     "output_type": "stream",
     "text": [
      "R2:\n"
     ]
    },
    {
     "data": {
      "text/plain": [
       "4×4 SparseMatrixCSC{Float64, Int64} with 6 stored entries:\n",
       "  ⋅    0.666667   ⋅      ⋅ \n",
       " 0.25   ⋅        0.625   ⋅ \n",
       "  ⋅    0.333333   ⋅     0.6\n",
       "  ⋅     ⋅        0.375   ⋅ "
      ]
     },
     "metadata": {},
     "output_type": "display_data"
    },
    {
     "name": "stdout",
     "output_type": "stream",
     "text": [
      "R1:\n"
     ]
    },
    {
     "data": {
      "text/plain": [
       "4×4 Matrix{Float64}:\n",
       " 0.0  0.5  0.0  -0.1\n",
       " 0.5  0.0  0.5   0.0\n",
       " 0.0  0.5  0.0   0.2\n",
       " 0.0  0.0  0.5   0.0"
      ]
     },
     "metadata": {},
     "output_type": "display_data"
    },
    {
     "name": "stdout",
     "output_type": "stream",
     "text": [
      "A:\n"
     ]
    },
    {
     "data": {
      "text/plain": [
       "4×4 SparseMatrixCSC{Float64, Int64} with 5 stored entries:\n",
       "  ⋅    ⋅    1.33333    ⋅ \n",
       "  ⋅   0.25   ⋅        2.625\n",
       "  ⋅    ⋅    0.666667   ⋅ \n",
       "  ⋅    ⋅     ⋅        1.125"
      ]
     },
     "metadata": {},
     "output_type": "display_data"
    },
    {
     "name": "stdout",
     "output_type": "stream",
     "text": [
      "coF:\n"
     ]
    },
    {
     "data": {
      "text/plain": [
       "4×4 SparseMatrixCSC{Float64, Int64} with 8 stored entries:\n",
       " 0.166667    ⋅       -0.0138889    ⋅ \n",
       "  ⋅         0.09375    ⋅         -0.046875\n",
       " 0.0833333   ⋅        0.0305556    ⋅ \n",
       "  ⋅         0.03125    ⋅         -0.003125"
      ]
     },
     "metadata": {},
     "output_type": "display_data"
    }
   ],
   "source": [
    "# get the matrices we want: C02, D2, A, coF\n",
    "using LinearAlgebra, SparseArrays\n",
    "\n",
    "# C01: Convert Chebyshev-T (T) coefficients to Chebyshev-U (U)\n",
    "C01 = spdiagm(0 => 0.5*ones(N), 2 => -0.5*ones(N-2))\n",
    "C01[1,1] = 1.0\n",
    "println(\"C01:\")\n",
    "display(C01)\n",
    "# C12: Convert Chebyshev-U to C^2, the continuous function space\n",
    "K_1 = 1.0 ./ (1:N)\n",
    "K_2 = 1.0 ./ (3:N)\n",
    "C12 = spdiagm(0 => K_1, 2 => -K_2)\n",
    "println(\"C12:\")\n",
    "display(C12)\n",
    "# C02: Convert Chebyshev-T to C^2 (It's C01 * C12)\n",
    "C02 = C01 * C12\n",
    "println(\"C02:\")\n",
    "display(C02)\n",
    "\n",
    "# D1: Differentiate Chebyshev-T and convert to Chebyshev-U\n",
    "D1 = spdiagm(1 => 1:N-1)\n",
    "println(\"D1: \")\n",
    "display(D1)\n",
    "# D2: Differentiate Chebyshev-T twice and convert to C²\n",
    "D2 = spdiagm(2 => 2 .* (2:N-1))\n",
    "println(\"D2: \")\n",
    "display(D2)\n",
    "# D0: Differentiate Chebyshev-T once\n",
    "D0 = C01 \\ D1\n",
    "println(\"D0: \")\n",
    "display(D0)\n",
    "\n",
    "# R0: Multiply Cheb-T by x\n",
    "R0 = spdiagm(-1 => 0.5*ones(N-1), 1 => 0.5*ones(N-1))\n",
    "R0[2,1] = 1.0\n",
    "println(\"R0:\")\n",
    "display(R0)\n",
    "# R2: Multiply in C² space\n",
    "denom = 4:2:2*N+2\n",
    "K_sub  = ((1:N) ./ denom)[1:N-1]\n",
    "K_super = ((3:N+2) ./ denom[1:N])[2:N]\n",
    "R2 = spdiagm(-1 => K_sub, 1 => K_super)\n",
    "println(\"R2:\")\n",
    "display(R2)\n",
    "# R1: Multiply in Cheb-U basis\n",
    "R1 = C12 \\ R2 * C12\n",
    "println(\"R1:\")\n",
    "display(R1)\n",
    "\n",
    "# A: Laplacian operator\n",
    "A = R2 * R2 * D2 + R2 * C12 * D1\n",
    "println(\"A:\")\n",
    "display(A)\n",
    "\n",
    "# coF: Laplacian multiplier\n",
    "coF = R2 * R2 * C02\n",
    "println(\"coF:\")\n",
    "display(coF)"
   ]
  },
  {
   "cell_type": "code",
   "execution_count": 11,
   "id": "44ef8527",
   "metadata": {},
   "outputs": [
    {
     "data": {
      "text/plain": [
       "4×4×4×1 Array{Float64, 4}:\n",
       "[:, :, 1, 1] =\n",
       " 0.0  0.0         0.0         0.0\n",
       " 0.0  2.1527e-17  2.1527e-17  0.0\n",
       " 0.0  2.1527e-17  2.1527e-17  0.0\n",
       " 0.0  0.0         0.0         0.0\n",
       "\n",
       "[:, :, 2, 1] =\n",
       " -0.0  -0.0          -0.0          -0.0\n",
       " -0.0  -1.07635e-17  -1.07635e-17  -0.0\n",
       " -0.0  -1.07635e-17  -1.07635e-17  -0.0\n",
       " -0.0  -0.0          -0.0          -0.0\n",
       "\n",
       "[:, :, 3, 1] =\n",
       " 0.0  0.0  0.0  0.0\n",
       " 0.0  0.0  0.0  0.0\n",
       " 0.0  0.0  0.0  0.0\n",
       " 0.0  0.0  0.0  0.0\n",
       "\n",
       "[:, :, 4, 1] =\n",
       " 0.0  0.0          0.0          0.0\n",
       " 0.0  1.07635e-17  1.07635e-17  0.0\n",
       " 0.0  1.07635e-17  1.07635e-17  0.0\n",
       " 0.0  0.0          0.0          0.0"
      ]
     },
     "metadata": {},
     "output_type": "display_data"
    }
   ],
   "source": [
    "# dummy test function\n",
    "f(r, z, θ, t) = r^2 * sin(θ) * cos(θ) * (1 - r^2) * (1 - z^4)\n",
    "\n",
    "# initialize CFS array to hold function values at t = 0\n",
    "CFS = zeros(size(rr))\n",
    "\n",
    "# Evaluate initial condition on the full (r, z, θ) grid\n",
    "for i in 1:size(rr, 1)\n",
    "    for j in 1:size(rr, 2)\n",
    "        for k in 1:size(rr, 3)\n",
    "            CFS[i, j, k] = f(rr[i, j, k], zz[i, j, k], tt[i, j, k], 0.0)\n",
    "        end\n",
    "    end\n",
    "end\n",
    "\n",
    "display(CFS);"
   ]
  },
  {
   "cell_type": "code",
   "execution_count": null,
   "id": "9532849d",
   "metadata": {},
   "outputs": [],
   "source": [
    "# replicate V2C_cyl function\n",
    "using FFTW\n",
    "using LinearAlgebra\n",
    "\n",
    "function V2C_cyl(vals::Array, a::AbstractString)\n",
    "    # julia uses mapslices with dims=d, which works directly on a specific dimension so no need to manually reshape like in MATLAB\n",
    "\n",
    "    dim = ndims(vals)\n",
    "    sz = size(vals)\n",
    "    \n",
    "    # check that length(a) = # of dimensions\n",
    "    @assert length(a) == dim \"Length of 'a' must match number of dimensions in vals.\"\n",
    "\n",
    "    # loop through dims, deciding which transform to apply\n",
    "    for d in 1:dim\n",
    "        # if t, FFT along dim\n",
    "        if a[d] == 't' || a[d] == 'T'\n",
    "            vals = mapslices(x -> fft(x) / length(x), vals; dims=d)\n",
    "        elseif a[d] == '0'\n",
    "            # do nothing\n",
    "            continue\n",
    "        # otherwise dct-ii along dim\n",
    "        else\n",
    "            vals = mapslices(x -> dct(x, 2), vals; dims=d)\n",
    "        end\n",
    "\n",
    "        # julia uses mapslices, which works directly on a specific dimension so no need to reshape and permute dimensions like in MATLAB\n",
    "    end\n",
    "\n",
    "    return vals\n",
    "end"
   ]
  }
 ],
 "metadata": {
  "kernelspec": {
   "display_name": "Julia 1.11.4",
   "language": "julia",
   "name": "julia-1.11"
  },
  "language_info": {
   "file_extension": ".jl",
   "mimetype": "application/julia",
   "name": "julia",
   "version": "1.11.4"
  }
 },
 "nbformat": 4,
 "nbformat_minor": 5
}
