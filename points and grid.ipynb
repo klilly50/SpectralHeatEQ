{
 "cells": [
  {
   "cell_type": "code",
   "execution_count": null,
   "id": "17c7e8b1",
   "metadata": {},
   "outputs": [
    {
     "data": {
      "text/plain": [
       "4×1 reshape(::StepRangeLen{Float64, Base.TwicePrecision{Float64}, Base.TwicePrecision{Float64}, Int64}, 4, 1) with eltype Float64:\n",
       " -3.141592653589793\n",
       " -1.5707963267948966\n",
       "  0.0\n",
       "  1.5707963267948966"
      ]
     },
     "metadata": {},
     "output_type": "display_data"
    },
    {
     "data": {
      "text/plain": [
       "4-element Vector{Float64}:\n",
       " -1.0\n",
       " -0.4999999999999998\n",
       "  0.5000000000000001\n",
       "  1.0"
      ]
     },
     "metadata": {},
     "output_type": "display_data"
    },
    {
     "data": {
      "text/plain": [
       "4-element Vector{Float64}:\n",
       " -1.0\n",
       " -0.4999999999999998\n",
       "  0.5000000000000001\n",
       "  1.0"
      ]
     },
     "metadata": {},
     "output_type": "display_data"
    }
   ],
   "source": [
    "# setting the N value\n",
    "\n",
    "N = 4;\n",
    "\n",
    "# points in t direction\n",
    "# trigpts returns N equally spaced points on an interval -1 to 1\n",
    "# range is kind of like linspace! the length\n",
    "\n",
    "t = pi* range(-1,1, length=N+1)[1:end-1];\n",
    "t = reshape(t,:,1)\n",
    "\n",
    "\n",
    "# chebpts returns chebyshev points of the second kind\n",
    "# generates N+1 cheb pts in the interval [-1, 1], so includes endpoints\n",
    "# points are clustered near the endpoints\n",
    "\n",
    "r = [cos((pi*k)/(N-1)) for k in (N-1):-1:0];\n",
    "z = [cos((pi*k)/(N-1)) for k in (N-1):-1:0];\n",
    "\n",
    "\n",
    "# going from N-1 to 0 ensures that endpoints are included bc when you \n",
    "#plug in (N-1) and 0 into the formula, you get the endpoints included -1 and 1 regardless of N\n",
    "# cosine part is just a formula for cheb pts of second kind\n",
    "\n",
    "display(t)\n",
    "display(z)\n",
    "display(r)"
   ]
  },
  {
   "cell_type": "code",
   "execution_count": 2,
   "id": "c016c20f",
   "metadata": {},
   "outputs": [
    {
     "data": {
      "text/plain": [
       "4×4 Matrix{Float64}:\n",
       " -1.0  -1.0  -1.0  -1.0\n",
       " -0.5  -0.5  -0.5  -0.5\n",
       "  0.5   0.5   0.5   0.5\n",
       "  1.0   1.0   1.0   1.0"
      ]
     },
     "metadata": {},
     "output_type": "display_data"
    },
    {
     "data": {
      "text/plain": [
       "4×4 Matrix{Float64}:\n",
       " -1.0  -0.5  0.5  1.0\n",
       " -1.0  -0.5  0.5  1.0\n",
       " -1.0  -0.5  0.5  1.0\n",
       " -1.0  -0.5  0.5  1.0"
      ]
     },
     "metadata": {},
     "output_type": "display_data"
    }
   ],
   "source": [
    "# now to make the grid! this was a bit incorrect because we need the different layers? \n",
    "#I found a package that works better!\n",
    "\n",
    "# tt = \n",
    "rr = hcat([r for _ in 1:N]...)\n",
    "zz = vcat([transpose(z) for _ in 1:N]...)\n",
    " \n",
    "display(rr)\n",
    "display(zz)"
   ]
  },
  {
   "cell_type": "code",
   "execution_count": 3,
   "id": "c61c2926",
   "metadata": {},
   "outputs": [
    {
     "data": {
      "text/plain": [
       "4×4×4×1 Array{Float64, 4}:\n",
       "[:, :, 1, 1] =\n",
       " -1.0  -1.0  -1.0  -1.0\n",
       " -0.5  -0.5  -0.5  -0.5\n",
       "  0.5   0.5   0.5   0.5\n",
       "  1.0   1.0   1.0   1.0\n",
       "\n",
       "[:, :, 2, 1] =\n",
       " -1.0  -1.0  -1.0  -1.0\n",
       " -0.5  -0.5  -0.5  -0.5\n",
       "  0.5   0.5   0.5   0.5\n",
       "  1.0   1.0   1.0   1.0\n",
       "\n",
       "[:, :, 3, 1] =\n",
       " -1.0  -1.0  -1.0  -1.0\n",
       " -0.5  -0.5  -0.5  -0.5\n",
       "  0.5   0.5   0.5   0.5\n",
       "  1.0   1.0   1.0   1.0\n",
       "\n",
       "[:, :, 4, 1] =\n",
       " -1.0  -1.0  -1.0  -1.0\n",
       " -0.5  -0.5  -0.5  -0.5\n",
       "  0.5   0.5   0.5   0.5\n",
       "  1.0   1.0   1.0   1.0"
      ]
     },
     "metadata": {},
     "output_type": "display_data"
    },
    {
     "data": {
      "text/plain": [
       "4×4×4×1 Array{Float64, 4}:\n",
       "[:, :, 1, 1] =\n",
       " -1.0  -0.5  0.5  1.0\n",
       " -1.0  -0.5  0.5  1.0\n",
       " -1.0  -0.5  0.5  1.0\n",
       " -1.0  -0.5  0.5  1.0\n",
       "\n",
       "[:, :, 2, 1] =\n",
       " -1.0  -0.5  0.5  1.0\n",
       " -1.0  -0.5  0.5  1.0\n",
       " -1.0  -0.5  0.5  1.0\n",
       " -1.0  -0.5  0.5  1.0\n",
       "\n",
       "[:, :, 3, 1] =\n",
       " -1.0  -0.5  0.5  1.0\n",
       " -1.0  -0.5  0.5  1.0\n",
       " -1.0  -0.5  0.5  1.0\n",
       " -1.0  -0.5  0.5  1.0\n",
       "\n",
       "[:, :, 4, 1] =\n",
       " -1.0  -0.5  0.5  1.0\n",
       " -1.0  -0.5  0.5  1.0\n",
       " -1.0  -0.5  0.5  1.0\n",
       " -1.0  -0.5  0.5  1.0"
      ]
     },
     "metadata": {},
     "output_type": "display_data"
    },
    {
     "data": {
      "text/plain": [
       "4×4×4×1 Array{Float64, 4}:\n",
       "[:, :, 1, 1] =\n",
       " -3.14159  -3.14159  -3.14159  -3.14159\n",
       " -3.14159  -3.14159  -3.14159  -3.14159\n",
       " -3.14159  -3.14159  -3.14159  -3.14159\n",
       " -3.14159  -3.14159  -3.14159  -3.14159\n",
       "\n",
       "[:, :, 2, 1] =\n",
       " -1.5708  -1.5708  -1.5708  -1.5708\n",
       " -1.5708  -1.5708  -1.5708  -1.5708\n",
       " -1.5708  -1.5708  -1.5708  -1.5708\n",
       " -1.5708  -1.5708  -1.5708  -1.5708\n",
       "\n",
       "[:, :, 3, 1] =\n",
       " 0.0  0.0  0.0  0.0\n",
       " 0.0  0.0  0.0  0.0\n",
       " 0.0  0.0  0.0  0.0\n",
       " 0.0  0.0  0.0  0.0\n",
       "\n",
       "[:, :, 4, 1] =\n",
       " 1.5708  1.5708  1.5708  1.5708\n",
       " 1.5708  1.5708  1.5708  1.5708\n",
       " 1.5708  1.5708  1.5708  1.5708\n",
       " 1.5708  1.5708  1.5708  1.5708"
      ]
     },
     "metadata": {},
     "output_type": "display_data"
    }
   ],
   "source": [
    "# same row vector vertical stacked\n",
    "rr = [ri for ri in r, zi in z, ti in t]\n",
    "\n",
    "# same column vector horizontal stacked\n",
    "zz = [zi for ri in r, zi in z, ti in t]\n",
    "\n",
    "# every entry in a matrix the same, but each layer has different value\n",
    "tt = [ti for ri in r, zi in z, ti in t]\n",
    "\n",
    "display(rr)\n",
    "display(zz)\n",
    "display(tt)\n"
   ]
  }
 ],
 "metadata": {
  "kernelspec": {
   "display_name": "Julia 1.11.4",
   "language": "julia",
   "name": "julia-1.11"
  },
  "language_info": {
   "file_extension": ".jl",
   "mimetype": "application/julia",
   "name": "julia",
   "version": "1.11.4"
  }
 },
 "nbformat": 4,
 "nbformat_minor": 5
}
