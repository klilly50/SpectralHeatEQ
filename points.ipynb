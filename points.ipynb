{
 "cells": [
  {
   "cell_type": "code",
   "execution_count": 5,
   "id": "77a42fb9",
   "metadata": {},
   "outputs": [
    {
     "data": {
      "text/plain": [
       "10-element Vector{Float64}:\n",
       " -1.0\n",
       " -0.9396926207859083\n",
       " -0.7660444431189779\n",
       " -0.4999999999999998\n",
       " -0.1736481776669303\n",
       "  0.17364817766693041\n",
       "  0.5000000000000001\n",
       "  0.766044443118978\n",
       "  0.9396926207859084\n",
       "  1.0"
      ]
     },
     "metadata": {},
     "output_type": "display_data"
    },
    {
     "data": {
      "text/plain": [
       "10-element Vector{Float64}:\n",
       " -1.0\n",
       " -0.9396926207859083\n",
       " -0.7660444431189779\n",
       " -0.4999999999999998\n",
       " -0.1736481776669303\n",
       "  0.17364817766693041\n",
       "  0.5000000000000001\n",
       "  0.766044443118978\n",
       "  0.9396926207859084\n",
       "  1.0"
      ]
     },
     "metadata": {},
     "output_type": "display_data"
    },
    {
     "data": {
      "text/plain": [
       "10-element Vector{Float64}:\n",
       "  3.141592653589793\n",
       "  2.952131434093549\n",
       "  2.4065995948258654\n",
       "  1.570796326794897\n",
       "  0.5455318392676838\n",
       " -0.5455318392676834\n",
       " -1.570796326794896\n",
       " -2.406599594825865\n",
       " -2.9521314340935487\n",
       " -3.141592653589793"
      ]
     },
     "metadata": {},
     "output_type": "display_data"
    }
   ],
   "source": [
    "# setting the N value\n",
    "\n",
    "N = 10;\n",
    "\n",
    "# points in t direction\n",
    "# trigpts returns N equally spaced points on an interval\n",
    "\n",
    "t = pi * cos.((0:N-1) * pi / (N-1)) #check more on this\n",
    "\n",
    "# chebpts returns chebyshev points of the second kind\n",
    "# generates N+1 cheb pts in the interval [-1, 1], so includes endpoints\n",
    "# points are clustered near the endpoints\n",
    "\n",
    "r = [cos(pi*k/(N-1)) for k in (N-1):-1:0];\n",
    "z = [cos(pi*k/(N-1)) for k in (N-1):-1:0];\n",
    "\n",
    "display(r)\n",
    "display(z)\n",
    "display(t)\n",
    "\n",
    "# going from N-1 to 0 ensures that endpoints are included bc when you \n",
    "#plug in (N-1) and 0 into the formula, you get the endpoints included -1 and 1 regardless of N\n",
    "# cosine part is just a formula for cheb pts of second kind\n",
    "#can make this into a function with function command??\n"
   ]
  }
 ],
 "metadata": {
  "kernelspec": {
   "display_name": "Julia 1.11.4",
   "language": "julia",
   "name": "julia-1.11"
  },
  "language_info": {
   "file_extension": ".jl",
   "mimetype": "application/julia",
   "name": "julia",
   "version": "1.11.4"
  }
 },
 "nbformat": 4,
 "nbformat_minor": 5
}
