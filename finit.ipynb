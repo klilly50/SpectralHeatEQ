{
 "cells": [
  {
   "cell_type": "markdown",
   "id": "ca71077b",
   "metadata": {},
   "source": [
    "# Imports!"
   ]
  },
  {
   "cell_type": "code",
   "execution_count": 10,
   "id": "2e6bfcbd",
   "metadata": {},
   "outputs": [
    {
     "name": "stderr",
     "output_type": "stream",
     "text": [
      "\u001b[32m\u001b[1m   Resolving\u001b[22m\u001b[39m package versions...\n",
      "\u001b[32m\u001b[1m  No Changes\u001b[22m\u001b[39m to `C:\\Users\\cefal\\.julia\\environments\\v1.11\\Project.toml`\n",
      "\u001b[32m\u001b[1m  No Changes\u001b[22m\u001b[39m to `C:\\Users\\cefal\\.julia\\environments\\v1.11\\Manifest.toml`\n"
     ]
    }
   ],
   "source": [
    "\n",
    "using Pkg\n",
    "Pkg.add(\"SpecialFunctions\")\n",
    "\n",
    "using Random\n",
    "using SpecialFunctions"
   ]
  },
  {
   "cell_type": "code",
   "execution_count": 11,
   "id": "132072ee",
   "metadata": {},
   "outputs": [
    {
     "data": {
      "text/plain": [
       "u (generic function with 1 method)"
      ]
     },
     "execution_count": 11,
     "metadata": {},
     "output_type": "execute_result"
    }
   ],
   "source": [
    "w54 = 18.98013387517992112;  # 4th root of the J-Bessel function of order 5\n",
    "w33 = 13.0152007216984344;   # 3rd root of the J-Bessel function of order 5\n",
    "q1 = 3;                      # Oscillation in z.\n",
    "q2 = 2;                      \n",
    "\n",
    "# Exact solution\n",
    "\n",
    "function u(r, z, th, t)\n",
    "\n",
    "    u(r, z, th, t) = 10*exp(-((pi*q1)^2 + w33^2)*t)*sin(q1*pi*z).*besselj(3,w33*r).*sin(3*th) + exp(-((pi*q2)^2 + w54^2)*t)*sin(q2*pi*z).*besselj(5,w54*r).*cos(5*th);\n",
    "\n",
    "    # alt option? u(r,z,th,t) = 10*exp(-((pi*q1)^2 + w33^2)*t)*sin(q1*pi*z).*besselj(3,w33*r).*sin(3*th);\n",
    "\n",
    "# besselj computes bessel function of the first kind. What does this mean??\n",
    "# julia equivalent is the same call out with special functions package\n",
    "\n",
    "return\n",
    "\n",
    "display(u(r, z, th, t))\n",
    "\n",
    "end"
   ]
  },
  {
   "cell_type": "code",
   "execution_count": 12,
   "id": "4f54c629",
   "metadata": {},
   "outputs": [
    {
     "data": {
      "text/plain": [
       "f (generic function with 1 method)"
      ]
     },
     "execution_count": 12,
     "metadata": {},
     "output_type": "execute_result"
    }
   ],
   "source": [
    "dt = 1e-9;\n",
    "T = 200;\n",
    "T_FD = 6;\n",
    "\n",
    "finit(r,z,th) = u(r,z,th,0*dt);\n",
    "\n",
    "function f(r,z,th)\n",
    "\n",
    "f(r,z,th) = u(r,z,th,(T-1)*dt);\n",
    "\n",
    "return\n",
    "\n",
    "display(f(r,z,th))\n",
    "\n",
    "end"
   ]
  },
  {
   "cell_type": "code",
   "execution_count": 13,
   "id": "3602294d",
   "metadata": {},
   "outputs": [
    {
     "data": {
      "text/plain": [
       "exactSolution (generic function with 1 method)"
      ]
     },
     "execution_count": 13,
     "metadata": {},
     "output_type": "execute_result"
    }
   ],
   "source": [
    "\n",
    "# this is an alternative version of the exact solution... \n",
    "\n",
    "function exactSolution(r,z,th,t)\n",
    "\n",
    "    w5 = (8.7714838159599540191228671334096, 12.338604197466943986082097644459, 15.700174079711671037587715595026, 18.980133875179921120770736748467, 22.217799896561267868824764947529, 25.430341154222704252022674430820);\n",
    "\n",
    "    Random.seed!(123) # what does this random number generation do for us??\n",
    "    rand(112374); # generates 112374 random numbers!\n",
    "\n",
    "\n",
    "    q = randperm(length(w5)); # random permutation of integers from 1 to length(w5)\n",
    "    c = 2*randperm(length(w5));\n",
    "    u = 0*r;\n",
    "\n",
    "    for j in 1:length(w5)\n",
    "    u = u + c(j)*exp(-((pi*q(j))^2 + w5(j)^2)*t)*sin(q(j)*pi*z).*besselj(5,w5(j)*r).*cos(5*th);\n",
    "    end\n",
    "\n",
    "    # besselj computes bessel function of the first kind. What does this mean??\n",
    "    # julia equivalent is the same call out with special functions package\n",
    "\n",
    "    w16 = (21.085146113064718937846237094033, 25.417019006342758261561265988748);\n",
    "\n",
    "    q = randperm(length(w16));\n",
    "    c = 2*randperm(length(w16));\n",
    "\n",
    "    for j=1:length(w16)\n",
    "    u = u + c(j)*exp(-((pi*q(j))^2 + w16(j)^2)*t)*sin(q(j)*pi*z).*besselj(16,w16(j)*r).*sin(16*th);\n",
    "    end\n",
    "\n",
    "    \n",
    "\n",
    "    return\n",
    "\n",
    "    display(u)\n",
    "\n",
    "end"
   ]
  }
 ],
 "metadata": {
  "kernelspec": {
   "display_name": "Julia 1.11.4",
   "language": "julia",
   "name": "julia-1.11"
  },
  "language_info": {
   "file_extension": ".jl",
   "mimetype": "application/julia",
   "name": "julia",
   "version": "1.11.4"
  }
 },
 "nbformat": 4,
 "nbformat_minor": 5
}
