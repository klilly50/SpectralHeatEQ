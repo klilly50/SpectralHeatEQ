{
 "cells": [
  {
   "cell_type": "markdown",
   "metadata": {},
   "source": [
    "# Constructing Operators\n",
    "### This notebook constructs the necessary operator matrices to solve the Heat Equation via Spectral Methods."
   ]
  },
  {
   "cell_type": "code",
   "execution_count": 105,
   "metadata": {},
   "outputs": [
    {
     "data": {
      "text/plain": [
       "10"
      ]
     },
     "execution_count": 105,
     "metadata": {},
     "output_type": "execute_result"
    }
   ],
   "source": [
    "using LinearAlgebra, SparseArrays\n",
    "N = 10 # dimension of matrices\n"
   ]
  },
  {
   "cell_type": "markdown",
   "metadata": {},
   "source": [
    "## Constructing the Conversion Operators: C01, C12, C02"
   ]
  },
  {
   "cell_type": "code",
   "execution_count": 106,
   "metadata": {},
   "outputs": [
    {
     "name": "stdout",
     "output_type": "stream",
     "text": [
      "C01:\n"
     ]
    },
    {
     "data": {
      "text/plain": [
       "10×10 SparseMatrixCSC{Float64, Int64} with 18 stored entries:\n",
       " 1.0   ⋅   -0.5    ⋅     ⋅     ⋅     ⋅     ⋅     ⋅     ⋅ \n",
       "  ⋅   0.5    ⋅   -0.5    ⋅     ⋅     ⋅     ⋅     ⋅     ⋅ \n",
       "  ⋅    ⋅    0.5    ⋅   -0.5    ⋅     ⋅     ⋅     ⋅     ⋅ \n",
       "  ⋅    ⋅     ⋅    0.5    ⋅   -0.5    ⋅     ⋅     ⋅     ⋅ \n",
       "  ⋅    ⋅     ⋅     ⋅    0.5    ⋅   -0.5    ⋅     ⋅     ⋅ \n",
       "  ⋅    ⋅     ⋅     ⋅     ⋅    0.5    ⋅   -0.5    ⋅     ⋅ \n",
       "  ⋅    ⋅     ⋅     ⋅     ⋅     ⋅    0.5    ⋅   -0.5    ⋅ \n",
       "  ⋅    ⋅     ⋅     ⋅     ⋅     ⋅     ⋅    0.5    ⋅   -0.5\n",
       "  ⋅    ⋅     ⋅     ⋅     ⋅     ⋅     ⋅     ⋅    0.5    ⋅ \n",
       "  ⋅    ⋅     ⋅     ⋅     ⋅     ⋅     ⋅     ⋅     ⋅    0.5"
      ]
     },
     "metadata": {},
     "output_type": "display_data"
    },
    {
     "name": "stdout",
     "output_type": "stream",
     "text": [
      "C12:\n"
     ]
    },
    {
     "data": {
      "text/plain": [
       "10×10 SparseMatrixCSC{Float64, Int64} with 18 stored entries:\n",
       " 1.0   ⋅   -0.333333    ⋅      ⋅   …    ⋅          ⋅       ⋅          ⋅ \n",
       "  ⋅   0.5    ⋅        -0.25    ⋅        ⋅          ⋅       ⋅          ⋅ \n",
       "  ⋅    ⋅    0.333333    ⋅    -0.2       ⋅          ⋅       ⋅          ⋅ \n",
       "  ⋅    ⋅     ⋅         0.25    ⋅        ⋅          ⋅       ⋅          ⋅ \n",
       "  ⋅    ⋅     ⋅          ⋅     0.2     -0.142857    ⋅       ⋅          ⋅ \n",
       "  ⋅    ⋅     ⋅          ⋅      ⋅   …    ⋅        -0.125    ⋅          ⋅ \n",
       "  ⋅    ⋅     ⋅          ⋅      ⋅       0.142857    ⋅     -0.111111    ⋅ \n",
       "  ⋅    ⋅     ⋅          ⋅      ⋅        ⋅         0.125    ⋅        -0.1\n",
       "  ⋅    ⋅     ⋅          ⋅      ⋅        ⋅          ⋅      0.111111    ⋅ \n",
       "  ⋅    ⋅     ⋅          ⋅      ⋅        ⋅          ⋅       ⋅         0.1"
      ]
     },
     "metadata": {},
     "output_type": "display_data"
    },
    {
     "name": "stdout",
     "output_type": "stream",
     "text": [
      "C02:\n"
     ]
    },
    {
     "data": {
      "text/plain": [
       "10×10 SparseMatrixCSC{Float64, Int64} with 24 stored entries:\n",
       " 1.0   ⋅    -0.5         ⋅      0.1  …    ⋅        ⋅           ⋅ \n",
       "  ⋅   0.25    ⋅        -0.25     ⋅        ⋅        ⋅           ⋅ \n",
       "  ⋅    ⋅     0.166667    ⋅     -0.2       ⋅        ⋅           ⋅ \n",
       "  ⋅    ⋅      ⋅         0.125    ⋅       0.0625    ⋅           ⋅ \n",
       "  ⋅    ⋅      ⋅          ⋅      0.1       ⋅       0.0555556    ⋅ \n",
       "  ⋅    ⋅      ⋅          ⋅       ⋅   …  -0.125     ⋅          0.05\n",
       "  ⋅    ⋅      ⋅          ⋅       ⋅        ⋅      -0.111111     ⋅ \n",
       "  ⋅    ⋅      ⋅          ⋅       ⋅       0.0625    ⋅         -0.1\n",
       "  ⋅    ⋅      ⋅          ⋅       ⋅        ⋅       0.0555556    ⋅ \n",
       "  ⋅    ⋅      ⋅          ⋅       ⋅        ⋅        ⋅          0.05"
      ]
     },
     "metadata": {},
     "output_type": "display_data"
    }
   ],
   "source": [
    "# C01: Convert Chebyshev-T (T) coefficients to Chebyshev-U (U)\n",
    "C01 = spdiagm(0 => 0.5*ones(N), 2 => -0.5*ones(N-2))\n",
    "C01[1,1] = 1.0\n",
    "println(\"C01:\")\n",
    "display(C01)\n",
    "\n",
    "# C12: Convert Chebyshev-U to C^2, the continuous function space\n",
    "K_1 = 1.0 ./ (1:N)\n",
    "K_2 = 1.0 ./ (3:N)\n",
    "C12 = spdiagm(0 => K_1, 2 => -K_2)\n",
    "println(\"C12:\")\n",
    "display(C12)\n",
    "\n",
    "# C02: Convert Chebyshev-T to C^2 (It's C01 * C12)\n",
    "C02 = C01 * C12\n",
    "println(\"C02:\")\n",
    "display(C02)"
   ]
  },
  {
   "cell_type": "markdown",
   "metadata": {},
   "source": [
    "## Constructing the Differentiation Operators: D0, D1, D2"
   ]
  },
  {
   "cell_type": "code",
   "execution_count": 107,
   "metadata": {},
   "outputs": [
    {
     "name": "stdout",
     "output_type": "stream",
     "text": [
      "D1: \n"
     ]
    },
    {
     "data": {
      "text/plain": [
       "10×10 SparseMatrixCSC{Int64, Int64} with 9 stored entries:\n",
       " ⋅  1  ⋅  ⋅  ⋅  ⋅  ⋅  ⋅  ⋅  ⋅\n",
       " ⋅  ⋅  2  ⋅  ⋅  ⋅  ⋅  ⋅  ⋅  ⋅\n",
       " ⋅  ⋅  ⋅  3  ⋅  ⋅  ⋅  ⋅  ⋅  ⋅\n",
       " ⋅  ⋅  ⋅  ⋅  4  ⋅  ⋅  ⋅  ⋅  ⋅\n",
       " ⋅  ⋅  ⋅  ⋅  ⋅  5  ⋅  ⋅  ⋅  ⋅\n",
       " ⋅  ⋅  ⋅  ⋅  ⋅  ⋅  6  ⋅  ⋅  ⋅\n",
       " ⋅  ⋅  ⋅  ⋅  ⋅  ⋅  ⋅  7  ⋅  ⋅\n",
       " ⋅  ⋅  ⋅  ⋅  ⋅  ⋅  ⋅  ⋅  8  ⋅\n",
       " ⋅  ⋅  ⋅  ⋅  ⋅  ⋅  ⋅  ⋅  ⋅  9\n",
       " ⋅  ⋅  ⋅  ⋅  ⋅  ⋅  ⋅  ⋅  ⋅  ⋅"
      ]
     },
     "metadata": {},
     "output_type": "display_data"
    },
    {
     "name": "stdout",
     "output_type": "stream",
     "text": [
      "D2: \n"
     ]
    },
    {
     "data": {
      "text/plain": [
       "10×10 SparseMatrixCSC{Int64, Int64} with 8 stored entries:\n",
       " ⋅  ⋅  4  ⋅  ⋅   ⋅   ⋅   ⋅   ⋅   ⋅\n",
       " ⋅  ⋅  ⋅  6  ⋅   ⋅   ⋅   ⋅   ⋅   ⋅\n",
       " ⋅  ⋅  ⋅  ⋅  8   ⋅   ⋅   ⋅   ⋅   ⋅\n",
       " ⋅  ⋅  ⋅  ⋅  ⋅  10   ⋅   ⋅   ⋅   ⋅\n",
       " ⋅  ⋅  ⋅  ⋅  ⋅   ⋅  12   ⋅   ⋅   ⋅\n",
       " ⋅  ⋅  ⋅  ⋅  ⋅   ⋅   ⋅  14   ⋅   ⋅\n",
       " ⋅  ⋅  ⋅  ⋅  ⋅   ⋅   ⋅   ⋅  16   ⋅\n",
       " ⋅  ⋅  ⋅  ⋅  ⋅   ⋅   ⋅   ⋅   ⋅  18\n",
       " ⋅  ⋅  ⋅  ⋅  ⋅   ⋅   ⋅   ⋅   ⋅   ⋅\n",
       " ⋅  ⋅  ⋅  ⋅  ⋅   ⋅   ⋅   ⋅   ⋅   ⋅"
      ]
     },
     "metadata": {},
     "output_type": "display_data"
    },
    {
     "name": "stdout",
     "output_type": "stream",
     "text": [
      "D0: \n"
     ]
    },
    {
     "data": {
      "text/plain": [
       "10×10 Matrix{Float64}:\n",
       " 0.0  1.0  0.0  3.0  0.0   5.0   0.0   7.0   0.0   9.0\n",
       " 0.0  0.0  4.0  0.0  8.0   0.0  12.0   0.0  16.0   0.0\n",
       " 0.0  0.0  0.0  6.0  0.0  10.0   0.0  14.0   0.0  18.0\n",
       " 0.0  0.0  0.0  0.0  8.0   0.0  12.0   0.0  16.0   0.0\n",
       " 0.0  0.0  0.0  0.0  0.0  10.0   0.0  14.0   0.0  18.0\n",
       " 0.0  0.0  0.0  0.0  0.0   0.0  12.0   0.0  16.0   0.0\n",
       " 0.0  0.0  0.0  0.0  0.0   0.0   0.0  14.0   0.0  18.0\n",
       " 0.0  0.0  0.0  0.0  0.0   0.0   0.0   0.0  16.0   0.0\n",
       " 0.0  0.0  0.0  0.0  0.0   0.0   0.0   0.0   0.0  18.0\n",
       " 0.0  0.0  0.0  0.0  0.0   0.0   0.0   0.0   0.0   0.0"
      ]
     },
     "metadata": {},
     "output_type": "display_data"
    }
   ],
   "source": [
    "# D1: Differentiate Chebyshev-T and convert to Chebyshev-U\n",
    "D1 = spdiagm(1 => 1:N-1)\n",
    "println(\"D1: \")\n",
    "display(D1)\n",
    "\n",
    "# D2: Differentiate Chebyshev-T twice and convert to C²\n",
    "D2 = spdiagm(2 => 2 .* (2:N-1))\n",
    "println(\"D2: \")\n",
    "display(D2)\n",
    "\n",
    "# D0: Differentiate Chebyshev-T once\n",
    "D0 = C01 \\ D1\n",
    "println(\"D0: \")\n",
    "display(D0)"
   ]
  },
  {
   "cell_type": "markdown",
   "metadata": {},
   "source": [
    "## Constructing the Multiplication by Variable Matrices: R0, R1, R2"
   ]
  },
  {
   "cell_type": "code",
   "execution_count": 108,
   "metadata": {},
   "outputs": [
    {
     "name": "stdout",
     "output_type": "stream",
     "text": [
      "R0:\n"
     ]
    },
    {
     "data": {
      "text/plain": [
       "10×10 SparseMatrixCSC{Float64, Int64} with 18 stored entries:\n",
       "  ⋅   0.5   ⋅    ⋅    ⋅    ⋅    ⋅    ⋅    ⋅    ⋅ \n",
       " 1.0   ⋅   0.5   ⋅    ⋅    ⋅    ⋅    ⋅    ⋅    ⋅ \n",
       "  ⋅   0.5   ⋅   0.5   ⋅    ⋅    ⋅    ⋅    ⋅    ⋅ \n",
       "  ⋅    ⋅   0.5   ⋅   0.5   ⋅    ⋅    ⋅    ⋅    ⋅ \n",
       "  ⋅    ⋅    ⋅   0.5   ⋅   0.5   ⋅    ⋅    ⋅    ⋅ \n",
       "  ⋅    ⋅    ⋅    ⋅   0.5   ⋅   0.5   ⋅    ⋅    ⋅ \n",
       "  ⋅    ⋅    ⋅    ⋅    ⋅   0.5   ⋅   0.5   ⋅    ⋅ \n",
       "  ⋅    ⋅    ⋅    ⋅    ⋅    ⋅   0.5   ⋅   0.5   ⋅ \n",
       "  ⋅    ⋅    ⋅    ⋅    ⋅    ⋅    ⋅   0.5   ⋅   0.5\n",
       "  ⋅    ⋅    ⋅    ⋅    ⋅    ⋅    ⋅    ⋅   0.5   ⋅ "
      ]
     },
     "metadata": {},
     "output_type": "display_data"
    },
    {
     "name": "stdout",
     "output_type": "stream",
     "text": [
      "R2:\n"
     ]
    },
    {
     "data": {
      "text/plain": [
       "10×10 SparseMatrixCSC{Float64, Int64} with 18 stored entries:\n",
       "  ⋅    0.666667   ⋅      ⋅    ⋅        …   ⋅       ⋅         ⋅     ⋅ \n",
       " 0.25   ⋅        0.625   ⋅    ⋅            ⋅       ⋅         ⋅     ⋅ \n",
       "  ⋅    0.333333   ⋅     0.6   ⋅            ⋅       ⋅         ⋅     ⋅ \n",
       "  ⋅     ⋅        0.375   ⋅   0.583333      ⋅       ⋅         ⋅     ⋅ \n",
       "  ⋅     ⋅         ⋅     0.4   ⋅            ⋅       ⋅         ⋅     ⋅ \n",
       "  ⋅     ⋅         ⋅      ⋅   0.416667  …  0.5625   ⋅         ⋅     ⋅ \n",
       "  ⋅     ⋅         ⋅      ⋅    ⋅            ⋅      0.555556   ⋅     ⋅ \n",
       "  ⋅     ⋅         ⋅      ⋅    ⋅           0.4375   ⋅        0.55   ⋅ \n",
       "  ⋅     ⋅         ⋅      ⋅    ⋅            ⋅      0.444444   ⋅    0.545455\n",
       "  ⋅     ⋅         ⋅      ⋅    ⋅            ⋅       ⋅        0.45   ⋅ "
      ]
     },
     "metadata": {},
     "output_type": "display_data"
    },
    {
     "name": "stdout",
     "output_type": "stream",
     "text": [
      "R1:\n"
     ]
    },
    {
     "data": {
      "text/plain": [
       "10×10 Matrix{Float64}:\n",
       " 0.0  0.5  0.0  0.0  0.0  0.0  0.0  0.0  0.0  -0.0454545\n",
       " 0.5  0.0  0.5  0.0  0.0  0.0  0.0  0.0  0.0   0.0\n",
       " 0.0  0.5  0.0  0.5  0.0  0.0  0.0  0.0  0.0  -0.136364\n",
       " 0.0  0.0  0.5  0.0  0.5  0.0  0.0  0.0  0.0   0.0\n",
       " 0.0  0.0  0.0  0.5  0.0  0.5  0.0  0.0  0.0  -0.227273\n",
       " 0.0  0.0  0.0  0.0  0.5  0.0  0.5  0.0  0.0   0.0\n",
       " 0.0  0.0  0.0  0.0  0.0  0.5  0.0  0.5  0.0  -0.318182\n",
       " 0.0  0.0  0.0  0.0  0.0  0.0  0.5  0.0  0.5   0.0\n",
       " 0.0  0.0  0.0  0.0  0.0  0.0  0.0  0.5  0.0   0.0909091\n",
       " 0.0  0.0  0.0  0.0  0.0  0.0  0.0  0.0  0.5   0.0"
      ]
     },
     "metadata": {},
     "output_type": "display_data"
    }
   ],
   "source": [
    "# R0: Multiply Cheb-T by x\n",
    "R0 = spdiagm(-1 => 0.5*ones(N-1), 1 => 0.5*ones(N-1))\n",
    "R0[2,1] = 1.0\n",
    "println(\"R0:\")\n",
    "display(R0)\n",
    "\n",
    "# R2: Multiply in C² space\n",
    "denom = 4:2:2*N+2\n",
    "K_sub  = ((1:N) ./ denom)[1:N-1]\n",
    "K_super = ((3:N+2) ./ denom[1:N])[2:N]\n",
    "R2 = spdiagm(-1 => K_sub, 1 => K_super)\n",
    "println(\"R2:\")\n",
    "display(R2)\n",
    "\n",
    "# R1: Multiply in Cheb-U basis\n",
    "R1 = C12 \\ R2 * C12\n",
    "println(\"R1:\")\n",
    "display(R1)"
   ]
  },
  {
   "cell_type": "markdown",
   "metadata": {},
   "source": [
    "## Constructing the Laplacian Matrices: A, coF"
   ]
  },
  {
   "cell_type": "code",
   "execution_count": 109,
   "metadata": {},
   "outputs": [
    {
     "name": "stdout",
     "output_type": "stream",
     "text": [
      "A:\n"
     ]
    },
    {
     "data": {
      "text/plain": [
       "10×10 SparseMatrixCSC{Float64, Int64} with 23 stored entries:\n",
       "  ⋅    ⋅    1.33333    ⋅     2.66667  …   ⋅        ⋅        ⋅        ⋅ \n",
       "  ⋅   0.25   ⋅        2.625   ⋅           ⋅        ⋅        ⋅        ⋅ \n",
       "  ⋅    ⋅    0.666667   ⋅     3.73333     3.6       ⋅        ⋅        ⋅ \n",
       "  ⋅    ⋅     ⋅        1.125   ⋅           ⋅       4.08333   ⋅        ⋅ \n",
       "  ⋅    ⋅     ⋅         ⋅     1.6         5.82857   ⋅       4.57143   ⋅ \n",
       "  ⋅    ⋅     ⋅         ⋅      ⋅       …   ⋅       6.85417   ⋅       5.0625\n",
       "  ⋅    ⋅     ⋅         ⋅      ⋅          2.57143   ⋅       7.87302   ⋅ \n",
       "  ⋅    ⋅     ⋅         ⋅      ⋅           ⋅       3.0625    ⋅       8.8875\n",
       "  ⋅    ⋅     ⋅         ⋅      ⋅           ⋅        ⋅       3.55556   ⋅ \n",
       "  ⋅    ⋅     ⋅         ⋅      ⋅           ⋅        ⋅        ⋅       4.05"
      ]
     },
     "metadata": {},
     "output_type": "display_data"
    },
    {
     "name": "stdout",
     "output_type": "stream",
     "text": [
      "coF:\n"
     ]
    },
    {
     "data": {
      "text/plain": [
       "10×10 SparseMatrixCSC{Float64, Int64} with 36 stored entries:\n",
       " 0.166667    ⋅       -0.0138889    ⋅         …    ⋅            ⋅ \n",
       "  ⋅         0.09375    ⋅         -0.046875        ⋅            ⋅ \n",
       " 0.0833333   ⋅        0.0305556    ⋅             0.0194444     ⋅ \n",
       "  ⋅         0.03125    ⋅          0.0260417       ⋅           0.0166667\n",
       "  ⋅          ⋅        0.025        ⋅            -0.00952381    ⋅ \n",
       "  ⋅          ⋅         ⋅          0.0208333  …    ⋅          -0.00729167\n",
       "  ⋅          ⋅         ⋅           ⋅            -0.0268959     ⋅ \n",
       "  ⋅          ⋅         ⋅           ⋅              ⋅          -0.024375\n",
       "  ⋅          ⋅         ⋅           ⋅             0.00561167    ⋅ \n",
       "  ⋅          ⋅         ⋅           ⋅              ⋅          -0.00772727"
      ]
     },
     "metadata": {},
     "output_type": "display_data"
    }
   ],
   "source": [
    "# A: Laplacian operator\n",
    "A = R2 * R2 * D2 + R2 * C12 * D1\n",
    "println(\"A:\")\n",
    "display(A)\n",
    "\n",
    "# coF: Laplacian multiplier\n",
    "coF = R2 * R2 * C02\n",
    "println(\"coF:\")\n",
    "display(coF)"
   ]
  }
 ],
 "metadata": {
  "kernelspec": {
   "display_name": "Julia 1.11.4",
   "language": "julia",
   "name": "julia-1.11"
  },
  "language_info": {
   "file_extension": ".jl",
   "mimetype": "application/julia",
   "name": "julia",
   "version": "1.11.4"
  }
 },
 "nbformat": 4,
 "nbformat_minor": 2
}
