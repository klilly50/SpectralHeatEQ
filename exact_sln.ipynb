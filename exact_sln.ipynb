{
 "cells": [
  {
   "cell_type": "code",
   "execution_count": 2,
   "id": "24c26edd",
   "metadata": {},
   "outputs": [
    {
     "name": "stderr",
     "output_type": "stream",
     "text": [
      "\u001b[32m\u001b[1m   Resolving\u001b[22m\u001b[39m package versions...\n",
      "\u001b[32m\u001b[1m  No Changes\u001b[22m\u001b[39m to `~/.julia/environments/v1.11/Project.toml`\n",
      "\u001b[32m\u001b[1m  No Changes\u001b[22m\u001b[39m to `~/.julia/environments/v1.11/Manifest.toml`\n"
     ]
    }
   ],
   "source": [
    "import Pkg; Pkg.add(\"FFTW\")"
   ]
  },
  {
   "cell_type": "code",
   "execution_count": 3,
   "id": "17c7e8b1",
   "metadata": {},
   "outputs": [
    {
     "data": {
      "text/plain": [
       "5×1 reshape(::StepRangeLen{Float64, Base.TwicePrecision{Float64}, Base.TwicePrecision{Float64}, Int64}, 5, 1) with eltype Float64:\n",
       " -3.141592653589793\n",
       " -1.8849555921538759\n",
       " -0.6283185307179586\n",
       "  0.6283185307179586\n",
       "  1.8849555921538759"
      ]
     },
     "metadata": {},
     "output_type": "display_data"
    },
    {
     "data": {
      "text/plain": [
       "5-element Vector{Float64}:\n",
       " -1.0\n",
       " -0.7071067811865475\n",
       "  6.123233995736766e-17\n",
       "  0.7071067811865476\n",
       "  1.0"
      ]
     },
     "metadata": {},
     "output_type": "display_data"
    },
    {
     "data": {
      "text/plain": [
       "5-element Vector{Float64}:\n",
       " -1.0\n",
       " -0.7071067811865475\n",
       "  6.123233995736766e-17\n",
       "  0.7071067811865476\n",
       "  1.0"
      ]
     },
     "metadata": {},
     "output_type": "display_data"
    }
   ],
   "source": [
    "# setting the N value\n",
    "\n",
    "N = 5;\n",
    "\n",
    "# points in t direction\n",
    "# trigpts returns N equally spaced points on an interval -1 to 1\n",
    "# range is kind of like linspace! the length\n",
    "\n",
    "t = pi* range(-1,1, length=N+1)[1:end-1];\n",
    "t = reshape(t,:,1)\n",
    "\n",
    "\n",
    "# chebpts returns chebyshev points of the second kind\n",
    "# generates N+1 cheb pts in the interval [-1, 1], so includes endpoints\n",
    "# points are clustered near the endpoints\n",
    "\n",
    "r = [cos((pi*k)/(N-1)) for k in (N-1):-1:0];\n",
    "z = [cos((pi*k)/(N-1)) for k in (N-1):-1:0];\n",
    "\n",
    "\n",
    "# going from N-1 to 0 ensures that endpoints are included bc when you \n",
    "#plug in (N-1) and 0 into the formula, you get the endpoints included -1 and 1 regardless of N\n",
    "# cosine part is just a formula for cheb pts of second kind\n",
    "\n",
    "display(t)\n",
    "display(z)\n",
    "display(r)"
   ]
  },
  {
   "cell_type": "code",
   "execution_count": 4,
   "id": "c016c20f",
   "metadata": {},
   "outputs": [
    {
     "data": {
      "text/plain": [
       "5×5 Matrix{Float64}:\n",
       " -1.0          -1.0          -1.0          -1.0          -1.0\n",
       " -0.707107     -0.707107     -0.707107     -0.707107     -0.707107\n",
       "  6.12323e-17   6.12323e-17   6.12323e-17   6.12323e-17   6.12323e-17\n",
       "  0.707107      0.707107      0.707107      0.707107      0.707107\n",
       "  1.0           1.0           1.0           1.0           1.0"
      ]
     },
     "metadata": {},
     "output_type": "display_data"
    },
    {
     "data": {
      "text/plain": [
       "5×5 Matrix{Float64}:\n",
       " -1.0  -0.707107  6.12323e-17  0.707107  1.0\n",
       " -1.0  -0.707107  6.12323e-17  0.707107  1.0\n",
       " -1.0  -0.707107  6.12323e-17  0.707107  1.0\n",
       " -1.0  -0.707107  6.12323e-17  0.707107  1.0\n",
       " -1.0  -0.707107  6.12323e-17  0.707107  1.0"
      ]
     },
     "metadata": {},
     "output_type": "display_data"
    }
   ],
   "source": [
    "# now to make the grid! this was a bit incorrect because we need the different layers? \n",
    "#I found a package that works better!\n",
    "\n",
    "# tt = \n",
    "rr = hcat([r for _ in 1:N]...)\n",
    "zz = vcat([transpose(z) for _ in 1:N]...)\n",
    " \n",
    "display(rr)\n",
    "display(zz)"
   ]
  },
  {
   "cell_type": "code",
   "execution_count": 5,
   "id": "c61c2926",
   "metadata": {},
   "outputs": [
    {
     "data": {
      "text/plain": [
       "5×5×5 Array{Float64, 3}:\n",
       "[:, :, 1] =\n",
       " -1.0          -1.0          -1.0          -1.0          -1.0\n",
       " -0.707107     -0.707107     -0.707107     -0.707107     -0.707107\n",
       "  6.12323e-17   6.12323e-17   6.12323e-17   6.12323e-17   6.12323e-17\n",
       "  0.707107      0.707107      0.707107      0.707107      0.707107\n",
       "  1.0           1.0           1.0           1.0           1.0\n",
       "\n",
       "[:, :, 2] =\n",
       " -1.0          -1.0          -1.0          -1.0          -1.0\n",
       " -0.707107     -0.707107     -0.707107     -0.707107     -0.707107\n",
       "  6.12323e-17   6.12323e-17   6.12323e-17   6.12323e-17   6.12323e-17\n",
       "  0.707107      0.707107      0.707107      0.707107      0.707107\n",
       "  1.0           1.0           1.0           1.0           1.0\n",
       "\n",
       "[:, :, 3] =\n",
       " -1.0          -1.0          -1.0          -1.0          -1.0\n",
       " -0.707107     -0.707107     -0.707107     -0.707107     -0.707107\n",
       "  6.12323e-17   6.12323e-17   6.12323e-17   6.12323e-17   6.12323e-17\n",
       "  0.707107      0.707107      0.707107      0.707107      0.707107\n",
       "  1.0           1.0           1.0           1.0           1.0\n",
       "\n",
       "[:, :, 4] =\n",
       " -1.0          -1.0          -1.0          -1.0          -1.0\n",
       " -0.707107     -0.707107     -0.707107     -0.707107     -0.707107\n",
       "  6.12323e-17   6.12323e-17   6.12323e-17   6.12323e-17   6.12323e-17\n",
       "  0.707107      0.707107      0.707107      0.707107      0.707107\n",
       "  1.0           1.0           1.0           1.0           1.0\n",
       "\n",
       "[:, :, 5] =\n",
       " -1.0          -1.0          -1.0          -1.0          -1.0\n",
       " -0.707107     -0.707107     -0.707107     -0.707107     -0.707107\n",
       "  6.12323e-17   6.12323e-17   6.12323e-17   6.12323e-17   6.12323e-17\n",
       "  0.707107      0.707107      0.707107      0.707107      0.707107\n",
       "  1.0           1.0           1.0           1.0           1.0"
      ]
     },
     "metadata": {},
     "output_type": "display_data"
    },
    {
     "data": {
      "text/plain": [
       "5×5×5 Array{Float64, 3}:\n",
       "[:, :, 1] =\n",
       " -1.0  -0.707107  6.12323e-17  0.707107  1.0\n",
       " -1.0  -0.707107  6.12323e-17  0.707107  1.0\n",
       " -1.0  -0.707107  6.12323e-17  0.707107  1.0\n",
       " -1.0  -0.707107  6.12323e-17  0.707107  1.0\n",
       " -1.0  -0.707107  6.12323e-17  0.707107  1.0\n",
       "\n",
       "[:, :, 2] =\n",
       " -1.0  -0.707107  6.12323e-17  0.707107  1.0\n",
       " -1.0  -0.707107  6.12323e-17  0.707107  1.0\n",
       " -1.0  -0.707107  6.12323e-17  0.707107  1.0\n",
       " -1.0  -0.707107  6.12323e-17  0.707107  1.0\n",
       " -1.0  -0.707107  6.12323e-17  0.707107  1.0\n",
       "\n",
       "[:, :, 3] =\n",
       " -1.0  -0.707107  6.12323e-17  0.707107  1.0\n",
       " -1.0  -0.707107  6.12323e-17  0.707107  1.0\n",
       " -1.0  -0.707107  6.12323e-17  0.707107  1.0\n",
       " -1.0  -0.707107  6.12323e-17  0.707107  1.0\n",
       " -1.0  -0.707107  6.12323e-17  0.707107  1.0\n",
       "\n",
       "[:, :, 4] =\n",
       " -1.0  -0.707107  6.12323e-17  0.707107  1.0\n",
       " -1.0  -0.707107  6.12323e-17  0.707107  1.0\n",
       " -1.0  -0.707107  6.12323e-17  0.707107  1.0\n",
       " -1.0  -0.707107  6.12323e-17  0.707107  1.0\n",
       " -1.0  -0.707107  6.12323e-17  0.707107  1.0\n",
       "\n",
       "[:, :, 5] =\n",
       " -1.0  -0.707107  6.12323e-17  0.707107  1.0\n",
       " -1.0  -0.707107  6.12323e-17  0.707107  1.0\n",
       " -1.0  -0.707107  6.12323e-17  0.707107  1.0\n",
       " -1.0  -0.707107  6.12323e-17  0.707107  1.0\n",
       " -1.0  -0.707107  6.12323e-17  0.707107  1.0"
      ]
     },
     "metadata": {},
     "output_type": "display_data"
    },
    {
     "data": {
      "text/plain": [
       "5×5×5 Array{Float64, 3}:\n",
       "[:, :, 1] =\n",
       " -3.14159  -3.14159  -3.14159  -3.14159  -3.14159\n",
       " -3.14159  -3.14159  -3.14159  -3.14159  -3.14159\n",
       " -3.14159  -3.14159  -3.14159  -3.14159  -3.14159\n",
       " -3.14159  -3.14159  -3.14159  -3.14159  -3.14159\n",
       " -3.14159  -3.14159  -3.14159  -3.14159  -3.14159\n",
       "\n",
       "[:, :, 2] =\n",
       " -1.88496  -1.88496  -1.88496  -1.88496  -1.88496\n",
       " -1.88496  -1.88496  -1.88496  -1.88496  -1.88496\n",
       " -1.88496  -1.88496  -1.88496  -1.88496  -1.88496\n",
       " -1.88496  -1.88496  -1.88496  -1.88496  -1.88496\n",
       " -1.88496  -1.88496  -1.88496  -1.88496  -1.88496\n",
       "\n",
       "[:, :, 3] =\n",
       " -0.628319  -0.628319  -0.628319  -0.628319  -0.628319\n",
       " -0.628319  -0.628319  -0.628319  -0.628319  -0.628319\n",
       " -0.628319  -0.628319  -0.628319  -0.628319  -0.628319\n",
       " -0.628319  -0.628319  -0.628319  -0.628319  -0.628319\n",
       " -0.628319  -0.628319  -0.628319  -0.628319  -0.628319\n",
       "\n",
       "[:, :, 4] =\n",
       " 0.628319  0.628319  0.628319  0.628319  0.628319\n",
       " 0.628319  0.628319  0.628319  0.628319  0.628319\n",
       " 0.628319  0.628319  0.628319  0.628319  0.628319\n",
       " 0.628319  0.628319  0.628319  0.628319  0.628319\n",
       " 0.628319  0.628319  0.628319  0.628319  0.628319\n",
       "\n",
       "[:, :, 5] =\n",
       " 1.88496  1.88496  1.88496  1.88496  1.88496\n",
       " 1.88496  1.88496  1.88496  1.88496  1.88496\n",
       " 1.88496  1.88496  1.88496  1.88496  1.88496\n",
       " 1.88496  1.88496  1.88496  1.88496  1.88496\n",
       " 1.88496  1.88496  1.88496  1.88496  1.88496"
      ]
     },
     "metadata": {},
     "output_type": "display_data"
    }
   ],
   "source": [
    "# same row vector vertical stacked\n",
    "rr = [ri for ri in r, zi in z, ti in t]\n",
    "\n",
    "# same column vector horizontal stacked\n",
    "zz = [zi for ri in r, zi in z, ti in t]\n",
    "\n",
    "# every entry in a matrix the same, but each layer has different value\n",
    "tt = [ti for ri in r, zi in z, ti in t]\n",
    "\n",
    "rr = dropdims(rr; dims=4)\n",
    "tt = dropdims(tt; dims=4)\n",
    "zz = dropdims(zz; dims=4)\n",
    "\n",
    "display(rr)\n",
    "display(zz)\n",
    "display(tt)\n"
   ]
  },
  {
   "cell_type": "code",
   "execution_count": 6,
   "id": "a3463d73",
   "metadata": {},
   "outputs": [
    {
     "name": "stdout",
     "output_type": "stream",
     "text": [
      "C01:\n"
     ]
    },
    {
     "data": {
      "text/plain": [
       "5×5 SparseMatrixCSC{Float64, Int64} with 8 stored entries:\n",
       " 1.0   ⋅   -0.5    ⋅     ⋅ \n",
       "  ⋅   0.5    ⋅   -0.5    ⋅ \n",
       "  ⋅    ⋅    0.5    ⋅   -0.5\n",
       "  ⋅    ⋅     ⋅    0.5    ⋅ \n",
       "  ⋅    ⋅     ⋅     ⋅    0.5"
      ]
     },
     "metadata": {},
     "output_type": "display_data"
    },
    {
     "name": "stdout",
     "output_type": "stream",
     "text": [
      "C12:\n"
     ]
    },
    {
     "data": {
      "text/plain": [
       "5×5 SparseMatrixCSC{Float64, Int64} with 8 stored entries:\n",
       " 1.0   ⋅   -0.333333    ⋅      ⋅ \n",
       "  ⋅   0.5    ⋅        -0.25    ⋅ \n",
       "  ⋅    ⋅    0.333333    ⋅    -0.2\n",
       "  ⋅    ⋅     ⋅         0.25    ⋅ \n",
       "  ⋅    ⋅     ⋅          ⋅     0.2"
      ]
     },
     "metadata": {},
     "output_type": "display_data"
    },
    {
     "name": "stdout",
     "output_type": "stream",
     "text": [
      "C02:\n"
     ]
    },
    {
     "data": {
      "text/plain": [
       "5×5 SparseMatrixCSC{Float64, Int64} with 9 stored entries:\n",
       " 1.0   ⋅    -0.5         ⋅      0.1\n",
       "  ⋅   0.25    ⋅        -0.25     ⋅ \n",
       "  ⋅    ⋅     0.166667    ⋅     -0.2\n",
       "  ⋅    ⋅      ⋅         0.125    ⋅ \n",
       "  ⋅    ⋅      ⋅          ⋅      0.1"
      ]
     },
     "metadata": {},
     "output_type": "display_data"
    },
    {
     "name": "stdout",
     "output_type": "stream",
     "text": [
      "D1: \n"
     ]
    },
    {
     "data": {
      "text/plain": [
       "5×5 SparseMatrixCSC{Int64, Int64} with 4 stored entries:\n",
       " ⋅  1  ⋅  ⋅  ⋅\n",
       " ⋅  ⋅  2  ⋅  ⋅\n",
       " ⋅  ⋅  ⋅  3  ⋅\n",
       " ⋅  ⋅  ⋅  ⋅  4\n",
       " ⋅  ⋅  ⋅  ⋅  ⋅"
      ]
     },
     "metadata": {},
     "output_type": "display_data"
    },
    {
     "name": "stdout",
     "output_type": "stream",
     "text": [
      "D2: \n"
     ]
    },
    {
     "data": {
      "text/plain": [
       "5×5 SparseMatrixCSC{Int64, Int64} with 3 stored entries:\n",
       " ⋅  ⋅  4  ⋅  ⋅\n",
       " ⋅  ⋅  ⋅  6  ⋅\n",
       " ⋅  ⋅  ⋅  ⋅  8\n",
       " ⋅  ⋅  ⋅  ⋅  ⋅\n",
       " ⋅  ⋅  ⋅  ⋅  ⋅"
      ]
     },
     "metadata": {},
     "output_type": "display_data"
    },
    {
     "name": "stdout",
     "output_type": "stream",
     "text": [
      "D0: \n"
     ]
    },
    {
     "data": {
      "text/plain": [
       "5×5 Matrix{Float64}:\n",
       " 0.0  1.0  0.0  3.0  0.0\n",
       " 0.0  0.0  4.0  0.0  8.0\n",
       " 0.0  0.0  0.0  6.0  0.0\n",
       " 0.0  0.0  0.0  0.0  8.0\n",
       " 0.0  0.0  0.0  0.0  0.0"
      ]
     },
     "metadata": {},
     "output_type": "display_data"
    },
    {
     "name": "stdout",
     "output_type": "stream",
     "text": [
      "R0:\n"
     ]
    },
    {
     "data": {
      "text/plain": [
       "5×5 SparseMatrixCSC{Float64, Int64} with 8 stored entries:\n",
       "  ⋅   0.5   ⋅    ⋅    ⋅ \n",
       " 1.0   ⋅   0.5   ⋅    ⋅ \n",
       "  ⋅   0.5   ⋅   0.5   ⋅ \n",
       "  ⋅    ⋅   0.5   ⋅   0.5\n",
       "  ⋅    ⋅    ⋅   0.5   ⋅ "
      ]
     },
     "metadata": {},
     "output_type": "display_data"
    },
    {
     "name": "stdout",
     "output_type": "stream",
     "text": [
      "R2:\n"
     ]
    },
    {
     "data": {
      "text/plain": [
       "5×5 SparseMatrixCSC{Float64, Int64} with 8 stored entries:\n",
       "  ⋅    0.666667   ⋅      ⋅    ⋅ \n",
       " 0.25   ⋅        0.625   ⋅    ⋅ \n",
       "  ⋅    0.333333   ⋅     0.6   ⋅ \n",
       "  ⋅     ⋅        0.375   ⋅   0.583333\n",
       "  ⋅     ⋅         ⋅     0.4   ⋅ "
      ]
     },
     "metadata": {},
     "output_type": "display_data"
    },
    {
     "name": "stdout",
     "output_type": "stream",
     "text": [
      "R1:\n"
     ]
    },
    {
     "data": {
      "text/plain": [
       "5×5 Matrix{Float64}:\n",
       " 0.0  0.5  0.0  0.0   0.0\n",
       " 0.5  0.0  0.5  0.0  -0.166667\n",
       " 0.0  0.5  0.0  0.5   0.0\n",
       " 0.0  0.0  0.5  0.0   0.166667\n",
       " 0.0  0.0  0.0  0.5   0.0"
      ]
     },
     "metadata": {},
     "output_type": "display_data"
    },
    {
     "name": "stdout",
     "output_type": "stream",
     "text": [
      "A:\n"
     ]
    },
    {
     "data": {
      "text/plain": [
       "5×5 SparseMatrixCSC{Float64, Int64} with 8 stored entries:\n",
       "  ⋅    ⋅    1.33333    ⋅     2.66667\n",
       "  ⋅   0.25   ⋅        2.625   ⋅ \n",
       "  ⋅    ⋅    0.666667   ⋅     3.73333\n",
       "  ⋅    ⋅     ⋅        1.125   ⋅ \n",
       "  ⋅    ⋅     ⋅         ⋅     1.6"
      ]
     },
     "metadata": {},
     "output_type": "display_data"
    },
    {
     "name": "stdout",
     "output_type": "stream",
     "text": [
      "coF:\n"
     ]
    },
    {
     "data": {
      "text/plain": [
       "5×5 SparseMatrixCSC{Float64, Int64} with 12 stored entries:\n",
       " 0.166667    ⋅       -0.0138889    ⋅         -0.0666667\n",
       "  ⋅         0.09375    ⋅         -0.046875     ⋅ \n",
       " 0.0833333   ⋅        0.0305556    ⋅         -0.0433333\n",
       "  ⋅         0.03125    ⋅          0.0260417    ⋅ \n",
       "  ⋅          ⋅        0.025        ⋅         -0.00666667"
      ]
     },
     "metadata": {},
     "output_type": "display_data"
    }
   ],
   "source": [
    "# get the matrices we want: C02, D2, A, coF\n",
    "using LinearAlgebra, SparseArrays\n",
    "\n",
    "# C01: Convert Chebyshev-T (T) coefficients to Chebyshev-U (U)\n",
    "C01 = spdiagm(0 => 0.5*ones(N), 2 => -0.5*ones(N-2))\n",
    "C01[1,1] = 1.0\n",
    "println(\"C01:\")\n",
    "display(C01)\n",
    "# C12: Convert Chebyshev-U to C^2, the continuous function space\n",
    "K_1 = 1.0 ./ (1:N)\n",
    "K_2 = 1.0 ./ (3:N)\n",
    "C12 = spdiagm(0 => K_1, 2 => -K_2)\n",
    "println(\"C12:\")\n",
    "display(C12)\n",
    "# C02: Convert Chebyshev-T to C^2 (It's C01 * C12)\n",
    "C02 = C01 * C12\n",
    "println(\"C02:\")\n",
    "display(C02)\n",
    "\n",
    "# D1: Differentiate Chebyshev-T and convert to Chebyshev-U\n",
    "D1 = spdiagm(1 => 1:N-1)\n",
    "println(\"D1: \")\n",
    "display(D1)\n",
    "# D2: Differentiate Chebyshev-T twice and convert to C²\n",
    "D2 = spdiagm(2 => 2 .* (2:N-1))\n",
    "println(\"D2: \")\n",
    "display(D2)\n",
    "# D0: Differentiate Chebyshev-T once\n",
    "D0 = C01 \\ D1\n",
    "println(\"D0: \")\n",
    "display(D0)\n",
    "\n",
    "# R0: Multiply Cheb-T by x\n",
    "R0 = spdiagm(-1 => 0.5*ones(N-1), 1 => 0.5*ones(N-1))\n",
    "R0[2,1] = 1.0\n",
    "println(\"R0:\")\n",
    "display(R0)\n",
    "# R2: Multiply in C² space\n",
    "denom = 4:2:2*N+2\n",
    "K_sub  = ((1:N) ./ denom)[1:N-1]\n",
    "K_super = ((3:N+2) ./ denom[1:N])[2:N]\n",
    "R2 = spdiagm(-1 => K_sub, 1 => K_super)\n",
    "println(\"R2:\")\n",
    "display(R2)\n",
    "# R1: Multiply in Cheb-U basis\n",
    "R1 = C12 \\ R2 * C12\n",
    "println(\"R1:\")\n",
    "display(R1)\n",
    "\n",
    "# A: Laplacian operator\n",
    "A = R2 * R2 * D2 + R2 * C12 * D1\n",
    "println(\"A:\")\n",
    "display(A)\n",
    "\n",
    "# coF: Laplacian multiplier\n",
    "coF = R2 * R2 * C02\n",
    "println(\"coF:\")\n",
    "display(coF)"
   ]
  },
  {
   "cell_type": "code",
   "execution_count": 7,
   "id": "44ef8527",
   "metadata": {},
   "outputs": [
    {
     "data": {
      "text/plain": [
       "5×5×5 Array{Float64, 3}:\n",
       "[:, :, 1] =\n",
       " 1.0  0.707107   6.12323e-17  -0.707107  -1.0\n",
       " 1.0  0.707107   2.53633e-17  -0.707107  -1.0\n",
       " 1.0  0.707107  -6.12323e-17  -0.707107  -1.0\n",
       " 1.0  0.707107  -1.47828e-16  -0.707107  -1.0\n",
       " 1.0  0.707107  -1.83697e-16  -0.707107  -1.0\n",
       "\n",
       "[:, :, 2] =\n",
       "  1.26007    1.16956    0.951057      0.732549   0.64204\n",
       "  0.981516   0.891007   0.672499      0.45399    0.363482\n",
       "  0.309017   0.218508  -7.71572e-17  -0.218508  -0.309017\n",
       " -0.363482  -0.45399   -0.672499     -0.891007  -0.981516\n",
       " -0.64204   -0.732549  -0.951057     -1.16956   -1.26007\n",
       "\n",
       "[:, :, 3] =\n",
       " -0.221232   0.0157238   0.587785      1.15985    1.3968\n",
       " -0.39339   -0.156434    0.415627      0.987688   1.22464\n",
       " -0.809017  -0.572061    1.35465e-17   0.572061   0.809017\n",
       " -1.22464   -0.987688   -0.415627      0.156434   0.39339\n",
       " -1.3968    -1.15985    -0.587785     -0.0157238  0.221232\n",
       "\n",
       "[:, :, 4] =\n",
       " -1.3968    -1.15985    -0.587785     -0.0157238  0.221232\n",
       " -1.22464   -0.987688   -0.415627      0.156434   0.39339\n",
       " -0.809017  -0.572061    8.55295e-17   0.572061   0.809017\n",
       " -0.39339   -0.156434    0.415627      0.987688   1.22464\n",
       " -0.221232   0.0157238   0.587785      1.15985    1.3968\n",
       "\n",
       "[:, :, 5] =\n",
       " -0.64204   -0.732549  -0.951057     -1.16956   -1.26007\n",
       " -0.363482  -0.45399   -0.672499     -0.891007  -0.981516\n",
       "  0.309017   0.218508   3.93136e-17  -0.218508  -0.309017\n",
       "  0.981516   0.891007   0.672499      0.45399    0.363482\n",
       "  1.26007    1.16956    0.951057      0.732549   0.64204"
      ]
     },
     "metadata": {},
     "output_type": "display_data"
    }
   ],
   "source": [
    "# dummy test function\n",
    "finit(r, z, θ, t) = r .* sin.(θ) .+ z .* cos.(θ)\n",
    "finit_test(r,z,θ) = finit(r,z,θ,0)\n",
    "\n",
    "# initialize CFS array to hold function values at t = 0\n",
    "CFS = zeros(size(rr))\n",
    "\n",
    "# Evaluate initial condition on the full (r, z, θ) grid\n",
    "for j in 1:N\n",
    "    CFS[:, j, :] = finit_test(rr[:,j,:],zz[:,j,:], tt[:,j,:])\n",
    "end\n",
    "\n",
    "display(CFS);"
   ]
  },
  {
   "cell_type": "code",
   "execution_count": 8,
   "id": "9532849d",
   "metadata": {},
   "outputs": [
    {
     "data": {
      "text/plain": [
       "V2C_cyl (generic function with 1 method)"
      ]
     },
     "execution_count": 8,
     "metadata": {},
     "output_type": "execute_result"
    }
   ],
   "source": [
    "# replicate V2C_cyl function\n",
    "using FFTW\n",
    "using LinearAlgebra\n",
    "\n",
    "function V2C_cyl(vals, a)\n",
    "    # julia uses mapslices with dims=d, which works directly on a specific dimension so no need to manually reshape like in MATLAB\n",
    "\n",
    "    dim = ndims(vals)\n",
    "    sz = size(vals)\n",
    "    # println(dim)\n",
    "    # println(length(a))\n",
    "    \n",
    "    # check that length(a) = # of dimensions\n",
    "    @assert length(a) == dim \"Length of 'a' must match number of dimensions in vals.\"\n",
    "    println(\"got here past assert\")\n",
    "\n",
    "    # loop through dims, deciding which transform to apply\n",
    "    for d in 1:dim\n",
    "        # if t, FFT along dim\n",
    "        if a[d] == 't' || a[d] == 'T'\n",
    "            vals = mapslices(x -> fft(x) / length(x), vals; dims=(1,2))\n",
    "            println(\"t done\")\n",
    "        else\n",
    "            if a[d] == 'r'\n",
    "                vals = mapslices(x -> dct(x, 2), vals; dims=(2,3))\n",
    "                println(\"r done\")\n",
    "            else a[d] == 'z'\n",
    "                vals = mapslices(x -> dct(x, 2), vals; dims=(1,3))\n",
    "                println(\"z done\")\n",
    "            end            \n",
    "        end\n",
    "\n",
    "        # julia uses mapslices, which works directly on a specific dimension so no need to reshape and permute dimensions like in MATLAB\n",
    "    end\n",
    "\n",
    "    return vals\n",
    "end"
   ]
  },
  {
   "cell_type": "code",
   "execution_count": 9,
   "id": "02a7bd80",
   "metadata": {},
   "outputs": [
    {
     "name": "stdout",
     "output_type": "stream",
     "text": [
      "got here past assert\n",
      "r done\n",
      "z done\n",
      "t done\n"
     ]
    },
    {
     "data": {
      "text/plain": [
       "5×5×5 Array{ComplexF64, 3}:\n",
       "[:, :, 1] =\n",
       " -5.32907e-17+0.0im        …      0.224584+0.309114im\n",
       "   -0.0473484+0.0651695im     -9.86005e-18+1.22097e-17im\n",
       "   -0.0325482+0.0105756im     -1.32171e-17-8.97204e-18im\n",
       "   -0.0325482-0.0105756im      1.47751e-17-1.60611e-17im\n",
       "   -0.0473484-0.0651695im      2.55415e-17+4.37631e-18im\n",
       "\n",
       "[:, :, 2] =\n",
       " -5.32907e-17+0.0im        …      0.137347+0.189043im\n",
       "     0.189043-0.260195im       2.48122e-17+3.60733e-18im\n",
       "     0.129951-0.0422238im      3.91544e-18+3.60733e-18im\n",
       "     0.129951+0.0422238im     -3.91544e-18+3.60733e-18im\n",
       "     0.189043+0.260195im       3.92987e-18+3.60733e-18im\n",
       "\n",
       "[:, :, 3] =\n",
       "       0.0+0.0im        …     -0.263789-0.363075im\n",
       "  0.141038-0.194123im       3.65265e-17-1.26706e-17im\n",
       " 0.0969525-0.0315018im      2.38536e-17-1.06854e-17im\n",
       " 0.0969525+0.0315018im      6.46095e-18-8.20285e-18im\n",
       "  0.141038+0.194123im      -1.09295e-17-1.26706e-17im\n",
       "\n",
       "[:, :, 4] =\n",
       " 3.55271e-17+0.0im        …     -0.222233-0.305877im\n",
       "   -0.305877+0.421004im      -2.07297e-17-5.22058e-18im\n",
       "   -0.210266+0.0683195im      8.02488e-18-1.36319e-17im\n",
       "   -0.210266-0.0683195im     -4.56487e-17-9.71522e-18im\n",
       "   -0.305877-0.421004im       -5.4518e-17-5.22058e-18im\n",
       "\n",
       "[:, :, 5] =\n",
       " 7.10543e-17+0.0im        …      0.176706+0.243215im\n",
       "   -0.260899+0.359096im       -3.4039e-17-1.98603e-17im\n",
       "   -0.179347+0.0582733im     -3.57045e-18+3.8099e-17im\n",
       "   -0.179347-0.0582733im     -2.30749e-17+9.35696e-18im\n",
       "   -0.260899-0.359096im       1.41787e-17+1.98603e-17im"
      ]
     },
     "execution_count": 9,
     "metadata": {},
     "output_type": "execute_result"
    }
   ],
   "source": [
    "T = 1\n",
    "# display(CFS)\n",
    "test = V2C_cyl(CFS,\"rzt\")\n",
    "# CFS(:,:,:,2:T)=zeros\n",
    "# println(CFS)"
   ]
  }
 ],
 "metadata": {
  "kernelspec": {
   "display_name": "Julia 1.11.4",
   "language": "julia",
   "name": "julia-1.11"
  },
  "language_info": {
   "file_extension": ".jl",
   "mimetype": "application/julia",
   "name": "julia",
   "version": "1.11.4"
  }
 },
 "nbformat": 4,
 "nbformat_minor": 5
}
