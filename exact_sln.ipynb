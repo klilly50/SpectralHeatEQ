{
 "cells": [
  {
   "cell_type": "markdown",
   "id": "b7a9f452",
   "metadata": {},
   "source": [
    "# Imports"
   ]
  },
  {
   "cell_type": "code",
   "execution_count": 187,
   "id": "24c26edd",
   "metadata": {},
   "outputs": [
    {
     "name": "stderr",
     "output_type": "stream",
     "text": [
      "\u001b[32m\u001b[1m   Resolving\u001b[22m\u001b[39m package versions...\n",
      "\u001b[32m\u001b[1m  No Changes\u001b[22m\u001b[39m to `~/.julia/environments/v1.11/Project.toml`\n",
      "\u001b[32m\u001b[1m  No Changes\u001b[22m\u001b[39m to `~/.julia/environments/v1.11/Manifest.toml`\n"
     ]
    }
   ],
   "source": [
    "import Pkg; Pkg.add(\"FFTW\")"
   ]
  },
  {
   "cell_type": "markdown",
   "id": "35402197",
   "metadata": {},
   "source": [
    "# Setting up rr, zz, tt"
   ]
  },
  {
   "cell_type": "code",
   "execution_count": 75,
   "id": "17c7e8b1",
   "metadata": {},
   "outputs": [
    {
     "data": {
      "text/plain": [
       "5×1 reshape(::StepRangeLen{Float64, Base.TwicePrecision{Float64}, Base.TwicePrecision{Float64}, Int64}, 5, 1) with eltype Float64:\n",
       " -3.141592653589793\n",
       " -1.8849555921538759\n",
       " -0.6283185307179586\n",
       "  0.6283185307179586\n",
       "  1.8849555921538759"
      ]
     },
     "metadata": {},
     "output_type": "display_data"
    },
    {
     "data": {
      "text/plain": [
       "5-element Vector{Float64}:\n",
       " -1.0\n",
       " -0.7071067811865475\n",
       "  6.123233995736766e-17\n",
       "  0.7071067811865476\n",
       "  1.0"
      ]
     },
     "metadata": {},
     "output_type": "display_data"
    },
    {
     "data": {
      "text/plain": [
       "5-element Vector{Float64}:\n",
       " -1.0\n",
       " -0.7071067811865475\n",
       "  6.123233995736766e-17\n",
       "  0.7071067811865476\n",
       "  1.0"
      ]
     },
     "metadata": {},
     "output_type": "display_data"
    }
   ],
   "source": [
    "# setting the N value\n",
    "\n",
    "N = 5;\n",
    "T = 1;\n",
    "\n",
    "# points in t direction\n",
    "# trigpts returns N equally spaced points on an interval -1 to 1\n",
    "# range is kind of like linspace! the length\n",
    "\n",
    "t = pi* range(-1,1, length=N+1)[1:end-1];\n",
    "t = reshape(t,:,1)\n",
    "\n",
    "\n",
    "# chebpts returns chebyshev points of the second kind\n",
    "# generates N+1 cheb pts in the interval [-1, 1], so includes endpoints\n",
    "# points are clustered near the endpoints\n",
    "\n",
    "r = [cos((pi*k)/(N-1)) for k in (N-1):-1:0];\n",
    "z = [cos((pi*k)/(N-1)) for k in (N-1):-1:0];\n",
    "\n",
    "\n",
    "# going from N-1 to 0 ensures that endpoints are included bc when you \n",
    "#plug in (N-1) and 0 into the formula, you get the endpoints included -1 and 1 regardless of N\n",
    "# cosine part is just a formula for cheb pts of second kind\n",
    "\n",
    "display(t)\n",
    "display(z)\n",
    "display(r)"
   ]
  },
  {
   "cell_type": "code",
   "execution_count": 76,
   "id": "c016c20f",
   "metadata": {},
   "outputs": [
    {
     "data": {
      "text/plain": [
       "5×5 Matrix{Float64}:\n",
       " -1.0          -1.0          -1.0          -1.0          -1.0\n",
       " -0.707107     -0.707107     -0.707107     -0.707107     -0.707107\n",
       "  6.12323e-17   6.12323e-17   6.12323e-17   6.12323e-17   6.12323e-17\n",
       "  0.707107      0.707107      0.707107      0.707107      0.707107\n",
       "  1.0           1.0           1.0           1.0           1.0"
      ]
     },
     "metadata": {},
     "output_type": "display_data"
    },
    {
     "data": {
      "text/plain": [
       "5×5 Matrix{Float64}:\n",
       " -1.0  -0.707107  6.12323e-17  0.707107  1.0\n",
       " -1.0  -0.707107  6.12323e-17  0.707107  1.0\n",
       " -1.0  -0.707107  6.12323e-17  0.707107  1.0\n",
       " -1.0  -0.707107  6.12323e-17  0.707107  1.0\n",
       " -1.0  -0.707107  6.12323e-17  0.707107  1.0"
      ]
     },
     "metadata": {},
     "output_type": "display_data"
    }
   ],
   "source": [
    "# now to make the grid! this was a bit incorrect because we need the different layers? \n",
    "#I found a package that works better!\n",
    "\n",
    "# tt = \n",
    "rr = hcat([r for _ in 1:N]...)\n",
    "zz = vcat([transpose(z) for _ in 1:N]...)\n",
    " \n",
    "display(rr)\n",
    "display(zz)"
   ]
  },
  {
   "cell_type": "code",
   "execution_count": 77,
   "id": "c61c2926",
   "metadata": {},
   "outputs": [
    {
     "data": {
      "text/plain": [
       "5×5×5 Array{Float64, 3}:\n",
       "[:, :, 1] =\n",
       " -1.0          -1.0          -1.0          -1.0          -1.0\n",
       " -0.707107     -0.707107     -0.707107     -0.707107     -0.707107\n",
       "  6.12323e-17   6.12323e-17   6.12323e-17   6.12323e-17   6.12323e-17\n",
       "  0.707107      0.707107      0.707107      0.707107      0.707107\n",
       "  1.0           1.0           1.0           1.0           1.0\n",
       "\n",
       "[:, :, 2] =\n",
       " -1.0          -1.0          -1.0          -1.0          -1.0\n",
       " -0.707107     -0.707107     -0.707107     -0.707107     -0.707107\n",
       "  6.12323e-17   6.12323e-17   6.12323e-17   6.12323e-17   6.12323e-17\n",
       "  0.707107      0.707107      0.707107      0.707107      0.707107\n",
       "  1.0           1.0           1.0           1.0           1.0\n",
       "\n",
       "[:, :, 3] =\n",
       " -1.0          -1.0          -1.0          -1.0          -1.0\n",
       " -0.707107     -0.707107     -0.707107     -0.707107     -0.707107\n",
       "  6.12323e-17   6.12323e-17   6.12323e-17   6.12323e-17   6.12323e-17\n",
       "  0.707107      0.707107      0.707107      0.707107      0.707107\n",
       "  1.0           1.0           1.0           1.0           1.0\n",
       "\n",
       "[:, :, 4] =\n",
       " -1.0          -1.0          -1.0          -1.0          -1.0\n",
       " -0.707107     -0.707107     -0.707107     -0.707107     -0.707107\n",
       "  6.12323e-17   6.12323e-17   6.12323e-17   6.12323e-17   6.12323e-17\n",
       "  0.707107      0.707107      0.707107      0.707107      0.707107\n",
       "  1.0           1.0           1.0           1.0           1.0\n",
       "\n",
       "[:, :, 5] =\n",
       " -1.0          -1.0          -1.0          -1.0          -1.0\n",
       " -0.707107     -0.707107     -0.707107     -0.707107     -0.707107\n",
       "  6.12323e-17   6.12323e-17   6.12323e-17   6.12323e-17   6.12323e-17\n",
       "  0.707107      0.707107      0.707107      0.707107      0.707107\n",
       "  1.0           1.0           1.0           1.0           1.0"
      ]
     },
     "metadata": {},
     "output_type": "display_data"
    },
    {
     "data": {
      "text/plain": [
       "5×5×5 Array{Float64, 3}:\n",
       "[:, :, 1] =\n",
       " -1.0  -0.707107  6.12323e-17  0.707107  1.0\n",
       " -1.0  -0.707107  6.12323e-17  0.707107  1.0\n",
       " -1.0  -0.707107  6.12323e-17  0.707107  1.0\n",
       " -1.0  -0.707107  6.12323e-17  0.707107  1.0\n",
       " -1.0  -0.707107  6.12323e-17  0.707107  1.0\n",
       "\n",
       "[:, :, 2] =\n",
       " -1.0  -0.707107  6.12323e-17  0.707107  1.0\n",
       " -1.0  -0.707107  6.12323e-17  0.707107  1.0\n",
       " -1.0  -0.707107  6.12323e-17  0.707107  1.0\n",
       " -1.0  -0.707107  6.12323e-17  0.707107  1.0\n",
       " -1.0  -0.707107  6.12323e-17  0.707107  1.0\n",
       "\n",
       "[:, :, 3] =\n",
       " -1.0  -0.707107  6.12323e-17  0.707107  1.0\n",
       " -1.0  -0.707107  6.12323e-17  0.707107  1.0\n",
       " -1.0  -0.707107  6.12323e-17  0.707107  1.0\n",
       " -1.0  -0.707107  6.12323e-17  0.707107  1.0\n",
       " -1.0  -0.707107  6.12323e-17  0.707107  1.0\n",
       "\n",
       "[:, :, 4] =\n",
       " -1.0  -0.707107  6.12323e-17  0.707107  1.0\n",
       " -1.0  -0.707107  6.12323e-17  0.707107  1.0\n",
       " -1.0  -0.707107  6.12323e-17  0.707107  1.0\n",
       " -1.0  -0.707107  6.12323e-17  0.707107  1.0\n",
       " -1.0  -0.707107  6.12323e-17  0.707107  1.0\n",
       "\n",
       "[:, :, 5] =\n",
       " -1.0  -0.707107  6.12323e-17  0.707107  1.0\n",
       " -1.0  -0.707107  6.12323e-17  0.707107  1.0\n",
       " -1.0  -0.707107  6.12323e-17  0.707107  1.0\n",
       " -1.0  -0.707107  6.12323e-17  0.707107  1.0\n",
       " -1.0  -0.707107  6.12323e-17  0.707107  1.0"
      ]
     },
     "metadata": {},
     "output_type": "display_data"
    },
    {
     "data": {
      "text/plain": [
       "5×5×5 Array{Float64, 3}:\n",
       "[:, :, 1] =\n",
       " -3.14159  -3.14159  -3.14159  -3.14159  -3.14159\n",
       " -3.14159  -3.14159  -3.14159  -3.14159  -3.14159\n",
       " -3.14159  -3.14159  -3.14159  -3.14159  -3.14159\n",
       " -3.14159  -3.14159  -3.14159  -3.14159  -3.14159\n",
       " -3.14159  -3.14159  -3.14159  -3.14159  -3.14159\n",
       "\n",
       "[:, :, 2] =\n",
       " -1.88496  -1.88496  -1.88496  -1.88496  -1.88496\n",
       " -1.88496  -1.88496  -1.88496  -1.88496  -1.88496\n",
       " -1.88496  -1.88496  -1.88496  -1.88496  -1.88496\n",
       " -1.88496  -1.88496  -1.88496  -1.88496  -1.88496\n",
       " -1.88496  -1.88496  -1.88496  -1.88496  -1.88496\n",
       "\n",
       "[:, :, 3] =\n",
       " -0.628319  -0.628319  -0.628319  -0.628319  -0.628319\n",
       " -0.628319  -0.628319  -0.628319  -0.628319  -0.628319\n",
       " -0.628319  -0.628319  -0.628319  -0.628319  -0.628319\n",
       " -0.628319  -0.628319  -0.628319  -0.628319  -0.628319\n",
       " -0.628319  -0.628319  -0.628319  -0.628319  -0.628319\n",
       "\n",
       "[:, :, 4] =\n",
       " 0.628319  0.628319  0.628319  0.628319  0.628319\n",
       " 0.628319  0.628319  0.628319  0.628319  0.628319\n",
       " 0.628319  0.628319  0.628319  0.628319  0.628319\n",
       " 0.628319  0.628319  0.628319  0.628319  0.628319\n",
       " 0.628319  0.628319  0.628319  0.628319  0.628319\n",
       "\n",
       "[:, :, 5] =\n",
       " 1.88496  1.88496  1.88496  1.88496  1.88496\n",
       " 1.88496  1.88496  1.88496  1.88496  1.88496\n",
       " 1.88496  1.88496  1.88496  1.88496  1.88496\n",
       " 1.88496  1.88496  1.88496  1.88496  1.88496\n",
       " 1.88496  1.88496  1.88496  1.88496  1.88496"
      ]
     },
     "metadata": {},
     "output_type": "display_data"
    }
   ],
   "source": [
    "# same row vector vertical stacked\n",
    "rr = [ri for ri in r, zi in z, ti in t]\n",
    "\n",
    "# same column vector horizontal stacked\n",
    "zz = [zi for ri in r, zi in z, ti in t]\n",
    "\n",
    "# every entry in a matrix the same, but each layer has different value\n",
    "tt = [ti for ri in r, zi in z, ti in t]\n",
    "\n",
    "rr = dropdims(rr; dims=4)\n",
    "tt = dropdims(tt; dims=4)\n",
    "zz = dropdims(zz; dims=4)\n",
    "\n",
    "display(rr)\n",
    "display(zz)\n",
    "display(tt)\n"
   ]
  },
  {
   "cell_type": "markdown",
   "id": "1ea56926",
   "metadata": {},
   "source": [
    "# Create Matrices"
   ]
  },
  {
   "cell_type": "code",
   "execution_count": 78,
   "id": "a3463d73",
   "metadata": {},
   "outputs": [
    {
     "name": "stdout",
     "output_type": "stream",
     "text": [
      "C01:\n"
     ]
    },
    {
     "data": {
      "text/plain": [
       "5×5 SparseMatrixCSC{Float64, Int64} with 8 stored entries:\n",
       " 1.0   ⋅   -0.5    ⋅     ⋅ \n",
       "  ⋅   0.5    ⋅   -0.5    ⋅ \n",
       "  ⋅    ⋅    0.5    ⋅   -0.5\n",
       "  ⋅    ⋅     ⋅    0.5    ⋅ \n",
       "  ⋅    ⋅     ⋅     ⋅    0.5"
      ]
     },
     "metadata": {},
     "output_type": "display_data"
    },
    {
     "name": "stdout",
     "output_type": "stream",
     "text": [
      "C12:\n"
     ]
    },
    {
     "data": {
      "text/plain": [
       "5×5 SparseMatrixCSC{Float64, Int64} with 8 stored entries:\n",
       " 1.0   ⋅   -0.333333    ⋅      ⋅ \n",
       "  ⋅   0.5    ⋅        -0.25    ⋅ \n",
       "  ⋅    ⋅    0.333333    ⋅    -0.2\n",
       "  ⋅    ⋅     ⋅         0.25    ⋅ \n",
       "  ⋅    ⋅     ⋅          ⋅     0.2"
      ]
     },
     "metadata": {},
     "output_type": "display_data"
    },
    {
     "name": "stdout",
     "output_type": "stream",
     "text": [
      "C02:\n"
     ]
    },
    {
     "data": {
      "text/plain": [
       "5×5 SparseMatrixCSC{Float64, Int64} with 9 stored entries:\n",
       " 1.0   ⋅    -0.5         ⋅      0.1\n",
       "  ⋅   0.25    ⋅        -0.25     ⋅ \n",
       "  ⋅    ⋅     0.166667    ⋅     -0.2\n",
       "  ⋅    ⋅      ⋅         0.125    ⋅ \n",
       "  ⋅    ⋅      ⋅          ⋅      0.1"
      ]
     },
     "metadata": {},
     "output_type": "display_data"
    },
    {
     "name": "stdout",
     "output_type": "stream",
     "text": [
      "D1: \n"
     ]
    },
    {
     "data": {
      "text/plain": [
       "5×5 SparseMatrixCSC{Int64, Int64} with 4 stored entries:\n",
       " ⋅  1  ⋅  ⋅  ⋅\n",
       " ⋅  ⋅  2  ⋅  ⋅\n",
       " ⋅  ⋅  ⋅  3  ⋅\n",
       " ⋅  ⋅  ⋅  ⋅  4\n",
       " ⋅  ⋅  ⋅  ⋅  ⋅"
      ]
     },
     "metadata": {},
     "output_type": "display_data"
    },
    {
     "name": "stdout",
     "output_type": "stream",
     "text": [
      "D2: \n"
     ]
    },
    {
     "data": {
      "text/plain": [
       "5×5 SparseMatrixCSC{Int64, Int64} with 3 stored entries:\n",
       " ⋅  ⋅  4  ⋅  ⋅\n",
       " ⋅  ⋅  ⋅  6  ⋅\n",
       " ⋅  ⋅  ⋅  ⋅  8\n",
       " ⋅  ⋅  ⋅  ⋅  ⋅\n",
       " ⋅  ⋅  ⋅  ⋅  ⋅"
      ]
     },
     "metadata": {},
     "output_type": "display_data"
    },
    {
     "name": "stdout",
     "output_type": "stream",
     "text": [
      "D0: \n"
     ]
    },
    {
     "data": {
      "text/plain": [
       "5×5 Matrix{Float64}:\n",
       " 0.0  1.0  0.0  3.0  0.0\n",
       " 0.0  0.0  4.0  0.0  8.0\n",
       " 0.0  0.0  0.0  6.0  0.0\n",
       " 0.0  0.0  0.0  0.0  8.0\n",
       " 0.0  0.0  0.0  0.0  0.0"
      ]
     },
     "metadata": {},
     "output_type": "display_data"
    },
    {
     "name": "stdout",
     "output_type": "stream",
     "text": [
      "R0:\n"
     ]
    },
    {
     "data": {
      "text/plain": [
       "5×5 SparseMatrixCSC{Float64, Int64} with 8 stored entries:\n",
       "  ⋅   0.5   ⋅    ⋅    ⋅ \n",
       " 1.0   ⋅   0.5   ⋅    ⋅ \n",
       "  ⋅   0.5   ⋅   0.5   ⋅ \n",
       "  ⋅    ⋅   0.5   ⋅   0.5\n",
       "  ⋅    ⋅    ⋅   0.5   ⋅ "
      ]
     },
     "metadata": {},
     "output_type": "display_data"
    },
    {
     "name": "stdout",
     "output_type": "stream",
     "text": [
      "R2:\n"
     ]
    },
    {
     "data": {
      "text/plain": [
       "5×5 SparseMatrixCSC{Float64, Int64} with 8 stored entries:\n",
       "  ⋅    0.666667   ⋅      ⋅    ⋅ \n",
       " 0.25   ⋅        0.625   ⋅    ⋅ \n",
       "  ⋅    0.333333   ⋅     0.6   ⋅ \n",
       "  ⋅     ⋅        0.375   ⋅   0.583333\n",
       "  ⋅     ⋅         ⋅     0.4   ⋅ "
      ]
     },
     "metadata": {},
     "output_type": "display_data"
    },
    {
     "name": "stdout",
     "output_type": "stream",
     "text": [
      "R1:\n"
     ]
    },
    {
     "data": {
      "text/plain": [
       "5×5 Matrix{Float64}:\n",
       " 0.0  0.5  0.0  0.0   0.0\n",
       " 0.5  0.0  0.5  0.0  -0.166667\n",
       " 0.0  0.5  0.0  0.5   0.0\n",
       " 0.0  0.0  0.5  0.0   0.166667\n",
       " 0.0  0.0  0.0  0.5   0.0"
      ]
     },
     "metadata": {},
     "output_type": "display_data"
    },
    {
     "name": "stdout",
     "output_type": "stream",
     "text": [
      "A:\n"
     ]
    },
    {
     "data": {
      "text/plain": [
       "5×5 SparseMatrixCSC{Float64, Int64} with 8 stored entries:\n",
       "  ⋅    ⋅    1.33333    ⋅     2.66667\n",
       "  ⋅   0.25   ⋅        2.625   ⋅ \n",
       "  ⋅    ⋅    0.666667   ⋅     3.73333\n",
       "  ⋅    ⋅     ⋅        1.125   ⋅ \n",
       "  ⋅    ⋅     ⋅         ⋅     1.6"
      ]
     },
     "metadata": {},
     "output_type": "display_data"
    },
    {
     "name": "stdout",
     "output_type": "stream",
     "text": [
      "coF:\n"
     ]
    },
    {
     "data": {
      "text/plain": [
       "5×5 SparseMatrixCSC{Float64, Int64} with 12 stored entries:\n",
       " 0.166667    ⋅       -0.0138889    ⋅         -0.0666667\n",
       "  ⋅         0.09375    ⋅         -0.046875     ⋅ \n",
       " 0.0833333   ⋅        0.0305556    ⋅         -0.0433333\n",
       "  ⋅         0.03125    ⋅          0.0260417    ⋅ \n",
       "  ⋅          ⋅        0.025        ⋅         -0.00666667"
      ]
     },
     "metadata": {},
     "output_type": "display_data"
    }
   ],
   "source": [
    "# get the matrices we want: C02, D2, A, coF\n",
    "using LinearAlgebra, SparseArrays\n",
    "\n",
    "# C01: Convert Chebyshev-T (T) coefficients to Chebyshev-U (U)\n",
    "C01 = spdiagm(0 => 0.5*ones(N), 2 => -0.5*ones(N-2))\n",
    "C01[1,1] = 1.0\n",
    "println(\"C01:\")\n",
    "display(C01)\n",
    "# C12: Convert Chebyshev-U to C^2, the continuous function space\n",
    "K_1 = 1.0 ./ (1:N)\n",
    "K_2 = 1.0 ./ (3:N)\n",
    "C12 = spdiagm(0 => K_1, 2 => -K_2)\n",
    "println(\"C12:\")\n",
    "display(C12)\n",
    "# C02: Convert Chebyshev-T to C^2 (It's C01 * C12)\n",
    "C02 = C01 * C12\n",
    "println(\"C02:\")\n",
    "display(C02)\n",
    "\n",
    "# D1: Differentiate Chebyshev-T and convert to Chebyshev-U\n",
    "D1 = spdiagm(1 => 1:N-1)\n",
    "println(\"D1: \")\n",
    "display(D1)\n",
    "# D2: Differentiate Chebyshev-T twice and convert to C²\n",
    "D2 = spdiagm(2 => 2 .* (2:N-1))\n",
    "println(\"D2: \")\n",
    "display(D2)\n",
    "# D0: Differentiate Chebyshev-T once\n",
    "D0 = C01 \\ D1\n",
    "println(\"D0: \")\n",
    "display(D0)\n",
    "\n",
    "# R0: Multiply Cheb-T by x\n",
    "R0 = spdiagm(-1 => 0.5*ones(N-1), 1 => 0.5*ones(N-1))\n",
    "R0[2,1] = 1.0\n",
    "println(\"R0:\")\n",
    "display(R0)\n",
    "# R2: Multiply in C² space\n",
    "denom = 4:2:2*N+2\n",
    "K_sub  = ((1:N) ./ denom)[1:N-1]\n",
    "K_super = ((3:N+2) ./ denom[1:N])[2:N]\n",
    "R2 = spdiagm(-1 => K_sub, 1 => K_super)\n",
    "println(\"R2:\")\n",
    "display(R2)\n",
    "# R1: Multiply in Cheb-U basis\n",
    "R1 = C12 \\ R2 * C12\n",
    "println(\"R1:\")\n",
    "display(R1)\n",
    "\n",
    "# A: Laplacian operator\n",
    "A = R2 * R2 * D2 + R2 * C12 * D1\n",
    "println(\"A:\")\n",
    "display(A)\n",
    "\n",
    "# coF: Laplacian multiplier\n",
    "coF = R2 * R2 * C02\n",
    "println(\"coF:\")\n",
    "display(coF)"
   ]
  },
  {
   "cell_type": "markdown",
   "id": "5a1ac372",
   "metadata": {},
   "source": [
    "# Set Initial Condition"
   ]
  },
  {
   "cell_type": "code",
   "execution_count": 108,
   "id": "44ef8527",
   "metadata": {},
   "outputs": [
    {
     "data": {
      "text/plain": [
       "5×5×5 Array{Float64, 3}:\n",
       "[:, :, 1] =\n",
       " 1.0  0.707107   6.12323e-17  -0.707107  -1.0\n",
       " 1.0  0.707107   2.53633e-17  -0.707107  -1.0\n",
       " 1.0  0.707107  -6.12323e-17  -0.707107  -1.0\n",
       " 1.0  0.707107  -1.47828e-16  -0.707107  -1.0\n",
       " 1.0  0.707107  -1.83697e-16  -0.707107  -1.0\n",
       "\n",
       "[:, :, 2] =\n",
       "  1.26007    1.16956    0.951057      0.732549   0.64204\n",
       "  0.981516   0.891007   0.672499      0.45399    0.363482\n",
       "  0.309017   0.218508  -7.71572e-17  -0.218508  -0.309017\n",
       " -0.363482  -0.45399   -0.672499     -0.891007  -0.981516\n",
       " -0.64204   -0.732549  -0.951057     -1.16956   -1.26007\n",
       "\n",
       "[:, :, 3] =\n",
       " -0.221232   0.0157238   0.587785      1.15985    1.3968\n",
       " -0.39339   -0.156434    0.415627      0.987688   1.22464\n",
       " -0.809017  -0.572061    1.35465e-17   0.572061   0.809017\n",
       " -1.22464   -0.987688   -0.415627      0.156434   0.39339\n",
       " -1.3968    -1.15985    -0.587785     -0.0157238  0.221232\n",
       "\n",
       "[:, :, 4] =\n",
       " -1.3968    -1.15985    -0.587785     -0.0157238  0.221232\n",
       " -1.22464   -0.987688   -0.415627      0.156434   0.39339\n",
       " -0.809017  -0.572061    8.55295e-17   0.572061   0.809017\n",
       " -0.39339   -0.156434    0.415627      0.987688   1.22464\n",
       " -0.221232   0.0157238   0.587785      1.15985    1.3968\n",
       "\n",
       "[:, :, 5] =\n",
       " -0.64204   -0.732549  -0.951057     -1.16956   -1.26007\n",
       " -0.363482  -0.45399   -0.672499     -0.891007  -0.981516\n",
       "  0.309017   0.218508   3.93136e-17  -0.218508  -0.309017\n",
       "  0.981516   0.891007   0.672499      0.45399    0.363482\n",
       "  1.26007    1.16956    0.951057      0.732549   0.64204"
      ]
     },
     "metadata": {},
     "output_type": "display_data"
    }
   ],
   "source": [
    "# dummy test function\n",
    "finit(r, z, θ, t) = r .* sin.(θ) .+ z .* cos.(θ)\n",
    "finit_test(r,z,θ) = finit(r,z,θ,0)\n",
    "\n",
    "# initialize CFS array to hold function values at t = 0\n",
    "CFS = zeros(size(rr))\n",
    "\n",
    "# Evaluate initial condition on the full (r, z, θ) grid\n",
    "for j in 1:N\n",
    "    CFS[:, j, :] = finit_test(rr[:,j,:],zz[:,j,:], tt[:,j,:])\n",
    "end\n",
    "\n",
    "display(CFS);"
   ]
  },
  {
   "cell_type": "markdown",
   "id": "2a3f30b3",
   "metadata": {},
   "source": [
    "# chebtech2.vals2coeffs and trigtech.vals2coeffs in Julia "
   ]
  },
  {
   "cell_type": "code",
   "execution_count": 89,
   "id": "a5c16f64",
   "metadata": {},
   "outputs": [
    {
     "data": {
      "text/plain": [
       "trigv2c (generic function with 1 method)"
      ]
     },
     "execution_count": 89,
     "metadata": {},
     "output_type": "execute_result"
    }
   ],
   "source": [
    "# replicate chebtech2.vals2coeffs and trigtech.vals2coeffs function\n",
    "using FFTW\n",
    "using LinearAlgebra\n",
    "\n",
    "function chebv2c(vals)\n",
    "    N = size(vals, 1)\n",
    "    coeffs = zeros(size(vals))\n",
    "\n",
    "    for col = 1:size(vals, 2)\n",
    "        v = vals[:, col] # single column vector\n",
    "        v_backwards = v[end-1:-1:2] # backwards\n",
    "        v_ext = vcat(v, v_backwards) # mirrored but not the first at the end, so like 1 2 3 2\n",
    "        c_ext = real(fft(v_ext)) # fft but only take real part\n",
    "        c = c_ext[1:N] / (N-1) # normalizes the first half, N = first half size\n",
    "        c[1] = c[1] / 2\n",
    "        c[end] = c[end] / 2\n",
    "        coeffs[:, col] = c\n",
    "    end\n",
    "\n",
    "    return coeffs\n",
    "\n",
    "end\n",
    "\n",
    "\n",
    "\n",
    "function trigv2c(vals)\n",
    "    N = size(vals, 1)\n",
    "\n",
    "    coeffs = (1/N)*fftshift(fft(vals, 1), 1)\n",
    "    # display(\"coeffs below\")\n",
    "    # display(size(coeffs))\n",
    "    # display(coeffs)\n",
    "\n",
    "    if ( mod(N, 2) != 0 ) # N is odd\n",
    "        even_odd_fix = (-1).^(-(N-1)/2:(N-1)/2)\n",
    "    else # N is even\n",
    "        even_odd_fix = (-1).^((-N/2):(N/2-1))\n",
    "    end\n",
    "\n",
    "    # display(\"evenoddfix size\")\n",
    "    # display(size(even_odd_fix))\n",
    "    # display(even_odd_fix)\n",
    "\n",
    "    coeffs = coeffs .* even_odd_fix\n",
    "\n",
    "    return coeffs\n",
    "end\n"
   ]
  },
  {
   "cell_type": "markdown",
   "id": "319651e9",
   "metadata": {},
   "source": [
    "# Testing above implementations"
   ]
  },
  {
   "cell_type": "code",
   "execution_count": 22,
   "id": "df3765de",
   "metadata": {},
   "outputs": [],
   "source": [
    "# vals_cheb = [-1; -0.5; 0; 0.5; 1]\n",
    "# display(vals_cheb)\n",
    "# vals_cheb_updated = chebv2c(vals_cheb);\n",
    "# display(\"vals_cheb updated\")\n",
    "# display(vals_cheb_updated)\n",
    "\n",
    "\n",
    "# vals_trig = [-1 -0.5im 0 0.5im 1; -1im -0.5 0 0.5 1im; -1 -0.5 0im 0.5 1]\n",
    "# display(vals_trig)\n",
    "# vals_trig_updated = trigv2c(vals_trig)\n",
    "# display(\"vals_trig updated\")\n",
    "# display(vals_trig_updated)"
   ]
  },
  {
   "cell_type": "code",
   "execution_count": 23,
   "id": "02a7bd80",
   "metadata": {},
   "outputs": [],
   "source": [
    "# T = 1\n",
    "# display(CFS)\n",
    "# CFS_after = V2C_cyl(CFS,\"rzt\")\n",
    "# display(CFS_after);\n",
    "# # CFS(:,:,:,2:T)=zeros\n",
    "# # println(CFS)"
   ]
  },
  {
   "cell_type": "code",
   "execution_count": 24,
   "id": "bc84cd64",
   "metadata": {},
   "outputs": [],
   "source": [
    "# function V2C_cyl(vals, a)\n",
    "#     # julia uses mapslices with dims=d, which works directly on a specific dimension so no need to manually reshape like in MATLAB\n",
    "\n",
    "#     dim = ndims(vals)\n",
    "#     sz = size(vals)\n",
    "#     # println(dim)\n",
    "#     # println(length(a))\n",
    "    \n",
    "#     # check that length(a) = # of dimensions\n",
    "#     @assert length(a) == dim \"Length of 'a' must match number of dimensions in vals.\"\n",
    "#     #println(\"got here past assert\")\n",
    "\n",
    "#     # loop through dims, deciding which transform to apply\n",
    "#     for d in 1:dim\n",
    "#         # if t, FFT along dim\n",
    "#         if a[d] == 't' || a[d] == 'T'\n",
    "#             vals = mapslices(x -> fft(x) / length(x), vals; dims=(1,2))\n",
    "#             #println(\"t done\")\n",
    "#         else\n",
    "#             if a[d] == 'r'\n",
    "#                 vals = mapslices(x -> dct(x, 2), vals; dims=(2,3))\n",
    "#                 #println(\"r done\")\n",
    "#             else a[d] == 'z'\n",
    "#                 vals = mapslices(x -> dct(x, 2), vals; dims=(1,3))\n",
    "#                 #println(\"z done\")\n",
    "#             end            \n",
    "#         end\n",
    "\n",
    "#         # julia uses mapslices, which works directly on a specific dimension so no need to reshape and permute dimensions like in MATLAB\n",
    "#     end\n",
    "\n",
    "#     return vals\n",
    "# end"
   ]
  },
  {
   "cell_type": "markdown",
   "id": "d4674c91",
   "metadata": {},
   "source": [
    "# Running V2C_cyl"
   ]
  },
  {
   "cell_type": "code",
   "execution_count": 181,
   "id": "3b53e76c",
   "metadata": {},
   "outputs": [
    {
     "data": {
      "text/plain": [
       "pretty_print_array_matlab_style (generic function with 1 method)"
      ]
     },
     "execution_count": 181,
     "metadata": {},
     "output_type": "execute_result"
    }
   ],
   "source": [
    "using Printf\n",
    "\n",
    "\n",
    "function pretty_print_array_matlab_style(A::Array; digits=4)\n",
    "    println()\n",
    "\n",
    "    iscomplexarray = eltype(A) <: Complex\n",
    "\n",
    "    for k in 1:size(A, 3)\n",
    "        slice = A[:, :, k]\n",
    "        abs_slice = iscomplexarray ? abs.(slice) : abs.(real.(slice))\n",
    "        maxval = maximum(abs_slice)\n",
    "        \n",
    "        println(\"(:,:, $k) =\\n\")\n",
    "\n",
    "        if maxval == 0.0\n",
    "            scale = 0\n",
    "            scaled = slice\n",
    "        else\n",
    "            scale = floor(Int, log10(maxval))\n",
    "            scaled = slice / (10.0^scale)\n",
    "        end\n",
    "\n",
    "        use_scale = maxval < 1e-3 || maxval > 1e4\n",
    "\n",
    "        if use_scale\n",
    "            println(@sprintf(\"   1.0e%+d *\\n\", scale))\n",
    "        end\n",
    "\n",
    "        for i in 1:size(slice, 1)\n",
    "            for j in 1:size(slice, 2)\n",
    "                val = use_scale ? scaled[i, j] : slice[i, j]\n",
    "                if iscomplexarray\n",
    "                    re = @sprintf(\"%7.*f\", digits, real(val))\n",
    "                    im = @sprintf(\"%7.*f\", digits, imag(val))\n",
    "                    sign_str = startswith(im, \"-\") ? \"\" : \"+\"\n",
    "                    print(\" $re $sign_str $im\" * \"i  \")\n",
    "                else\n",
    "                    print(@sprintf(\"%8.*f  \", digits, val))\n",
    "                end\n",
    "            end\n",
    "            println()\n",
    "        end\n",
    "        println()\n",
    "    end\n",
    "end"
   ]
  },
  {
   "cell_type": "code",
   "execution_count": null,
   "id": "2a1568bf",
   "metadata": {},
   "outputs": [
    {
     "data": {
      "text/plain": [
       "V2C_cyl (generic function with 1 method)"
      ]
     },
     "execution_count": 182,
     "metadata": {},
     "output_type": "execute_result"
    }
   ],
   "source": [
    "function V2C_cyl(vals, a)\n",
    "    dim = length(a)\n",
    "    SIZE = size(vals)\n",
    "\n",
    "    a = collect(lowercase(a))\n",
    "\n",
    "    for kk in 1:dim\n",
    "        # first, \"vectorize\" to catch all columns at once.\n",
    "        vals = reshape(vals, SIZE[kk], div(length(vals), SIZE[kk]))\n",
    "\n",
    "        # apply the appropriate transform\n",
    "        if a[kk] == 't'\n",
    "            vals = trigv2c(vals)\n",
    "        elseif a[kk] == '0'\n",
    "            # do nothing\n",
    "        else\n",
    "            vals = chebv2c(vals)\n",
    "        end\n",
    "\n",
    "        # Reshape and permute back\n",
    "        if dim != 1\n",
    "            vals = reshape(vals, (5, 5, 5))\n",
    "            vals = permutedims(vals, (2, 3, 1))\n",
    "        end\n",
    "\n",
    "        if a[kk] == 'r' || a[kk] == 'z'\n",
    "            vals[:,:,2] .= -vals[:,:,2]\n",
    "            vals[:,:,4] .= -vals[:,:,4]\n",
    "        end\n",
    "        \n",
    "        println(\"dimension \", a[kk])\n",
    "        pretty_print_array_matlab_style(vals)\n",
    "        \n",
    "    end\n",
    "\n",
    "    return vals\n",
    "\n",
    "end\n"
   ]
  },
  {
   "cell_type": "code",
   "execution_count": 186,
   "id": "29eb72e9",
   "metadata": {},
   "outputs": [
    {
     "name": "stdout",
     "output_type": "stream",
     "text": [
      "dimension r\n",
      "\n",
      "(:,:, 1) =\n",
      "\n",
      "  1.0000    0.3090   -0.8090   -0.8090    0.3090  \n",
      "  0.7071    0.2185   -0.5721   -0.5721    0.2185  \n",
      " -0.0000   -0.0000    0.0000    0.0000    0.0000  \n",
      " -0.7071   -0.2185    0.5721    0.5721   -0.2185  \n",
      " -1.0000   -0.3090    0.8090    0.8090   -0.3090  \n",
      "\n",
      "(:,:, 2) =\n",
      "\n",
      " -0.0000   -0.9511   -0.5878    0.5878    0.9511  \n",
      " -0.0000   -0.9511   -0.5878    0.5878    0.9511  \n",
      " -0.0000   -0.9511   -0.5878    0.5878    0.9511  \n",
      " -0.0000   -0.9511   -0.5878    0.5878    0.9511  \n",
      " -0.0000   -0.9511   -0.5878    0.5878    0.9511  \n",
      "\n",
      "(:,:, 3) =\n",
      "\n",
      "   1.0e-17 *\n",
      "\n",
      "  0.0000    5.5511    0.0000    0.0000    0.0000  \n",
      "  0.0000    5.5511    0.0000    0.0000    0.0000  \n",
      "  0.0000    3.8579   -0.6773   -4.2765   -1.9657  \n",
      "  0.0000    1.3878    5.5511    5.5511   -4.1633  \n",
      "  0.0000    0.0000    0.0000    0.0000   -5.5511  \n",
      "\n",
      "(:,:, 4) =\n",
      "\n",
      "   1.0e-17 *\n",
      "\n",
      " -4.4014   -5.5511    5.5511   -5.5511    5.5511  \n",
      "  2.2993    5.5511    5.5511   -0.0000    5.5511  \n",
      " -0.0000   -5.5511   -0.0000   -0.0000    5.5511  \n",
      "  2.2993   -5.5511   -0.0000   -0.0000    5.5511  \n",
      " -4.4014   -5.5511    5.5511   -5.5511    5.5511  \n",
      "\n",
      "(:,:, 5) =\n",
      "\n",
      "   1.0e-17 *\n",
      "\n",
      "  0.0000    2.7756    0.0000    0.0000    0.0000  \n",
      "  0.0000    1.3878    0.0000    0.0000    1.3878  \n",
      "  0.0000    0.8466   -1.0491   -2.0251   -1.7927  \n",
      "  0.0000    2.7756    5.5511    5.5511    0.0000  \n",
      "  0.0000    0.0000    0.0000    0.0000   -2.7756  \n",
      "\n",
      "dimension z\n",
      "\n",
      "(:,:, 1) =\n",
      "\n",
      " -0.0000   -0.0000    0.0000    0.0000    0.0000  \n",
      " -0.0000   -0.9511    0.0000   -0.0000    0.0000  \n",
      "  0.0000   -0.5878    0.0000    0.0000    0.0000  \n",
      "  0.0000    0.5878    0.0000   -0.0000    0.0000  \n",
      "  0.0000    0.9511   -0.0000    0.0000   -0.0000  \n",
      "\n",
      "(:,:, 2) =\n",
      "\n",
      " -1.0000   -0.0000   -0.0000   -0.0000   -0.0000  \n",
      " -0.3090   -0.0000   -0.0000   -0.0000   -0.0000  \n",
      "  0.8090   -0.0000    0.0000   -0.0000    0.0000  \n",
      "  0.8090   -0.0000    0.0000   -0.0000    0.0000  \n",
      " -0.3090   -0.0000   -0.0000   -0.0000   -0.0000  \n",
      "\n",
      "(:,:, 3) =\n",
      "\n",
      "   1.0e-17 *\n",
      "\n",
      "  3.0616   -0.0027   -0.0000   -2.2007   -0.0000  \n",
      "  0.9645    0.0000   -0.5412    0.0000    0.2706  \n",
      " -0.8632    0.0000    0.3387    2.7756    0.5246  \n",
      " -3.1508    0.0000    2.1382   -2.7756    1.0125  \n",
      " -0.4914    0.0000   -0.4049    0.0000    0.2025  \n",
      "\n",
      "(:,:, 4) =\n",
      "\n",
      "   1.0e-17 *\n",
      "\n",
      " -0.0000   -0.0000   -0.0000   -0.0000   -0.0000  \n",
      "  2.7756   -0.0000    0.0842    3.9252   -1.1845  \n",
      " -5.5511   -0.0000   -1.9626    1.9626   -1.9626  \n",
      " -5.5511   -0.0000   -1.9626   -0.0000   -1.9626  \n",
      "  2.7756   -0.0000    0.0842   -0.0000   -0.2032  \n",
      "\n",
      "(:,:, 5) =\n",
      "\n",
      "   1.0e-17 *\n",
      "\n",
      "  1.2447    0.5762    0.0000   -2.2500    0.0000  \n",
      "  0.2117    0.0000   -0.0764   -2.7756   -0.4822  \n",
      " -5.1195    0.0000   -1.5571    0.0000   -1.6501  \n",
      " -3.9757    0.0000   -2.4569   -1.3878   -1.8941  \n",
      "  0.2457    0.0000   -0.1445    0.0000   -1.1421  \n",
      "\n",
      "dimension t\n",
      "\n",
      "(:,:, 1) =\n",
      "\n",
      "   1.0e-17 *\n",
      "\n",
      "  0.0995  -0.6022i    4.4409 +  0.0000i    0.2877  -0.2640i   -1.5843 +  0.0000i   -0.3872 +  0.2136i  \n",
      " -2.5651  -0.8633i    0.0000 +  0.0000i   -0.0005 +  0.0000i    0.0000 +  0.0000i    0.1152 +  0.0000i  \n",
      " -0.0938 +  0.4894i    1.1680 +  0.0000i    0.3062 +  0.3263i   -0.2698 +  0.0000i   -0.2123  -0.1631i  \n",
      " -0.3535  -1.7708i    0.5138  -0.0881i   -0.4401  -1.0559i   -0.5138 +  0.0881i   -0.0867  -0.5903i  \n",
      " -0.0622 +  0.1943i    0.4671 +  0.1154i    0.0185 +  0.1008i   -0.0180  -0.1154i    0.0438 +  0.0312i  \n",
      "\n",
      "(:,:, 2) =\n",
      "\n",
      "  0.0000 +  0.0000i    0.5000  -0.0000i   -0.0000  -0.0000i   -0.0000  -0.0000i   -0.0000 +  0.0000i  \n",
      "  0.0000 +  0.5000i   -0.0000  -0.0000i    0.0000  -0.0000i   -0.0000  -0.0000i   -0.0000  -0.0000i  \n",
      "  0.0000  -0.0000i    0.0000  -0.0000i    0.0000 +  0.0000i   -0.0000  -0.0000i   -0.0000  -0.0000i  \n",
      "  0.0000 +  0.0000i   -0.0000 +  0.0000i    0.0000  -0.0000i    0.0000  -0.0000i    0.0000 +  0.0000i  \n",
      "  0.0000  -0.0000i    0.0000  -0.0000i    0.0000 +  0.0000i   -0.0000 +  0.0000i   -0.0000  -0.0000i  \n",
      "\n",
      "(:,:, 3) =\n",
      "\n",
      "   1.0e-17 *\n",
      "\n",
      "  1.5745 +  0.0000i    4.4409 +  0.0000i   -0.0959 +  0.0000i   -1.1102 +  0.0000i   -1.4786 +  0.0000i  \n",
      " -2.5651 +  0.0000i   -0.0000 +  0.0000i   -0.0005 +  0.0000i   -0.0000 +  0.0000i    0.1152 +  0.0000i  \n",
      "  0.5408 +  0.0000i   -0.3588 +  0.0000i    0.3062 +  0.0000i   -0.7514 +  0.0000i   -0.8470 +  0.0000i  \n",
      "  0.8425 +  0.0000i   -1.1776 +  0.0000i   -0.4401 +  0.0000i    1.1776 +  0.0000i   -1.2827 +  0.0000i  \n",
      "  0.6317 +  0.0000i    0.5075 +  0.0000i    0.4020 +  0.0000i   -1.0626 +  0.0000i   -1.0337 +  0.0000i  \n",
      "\n",
      "(:,:, 4) =\n",
      "\n",
      "  0.0000  -0.0000i    0.5000  -0.0000i   -0.0000 +  0.0000i   -0.0000  -0.0000i   -0.0000  -0.0000i  \n",
      "  0.0000  -0.5000i   -0.0000  -0.0000i    0.0000  -0.0000i   -0.0000  -0.0000i   -0.0000  -0.0000i  \n",
      "  0.0000 +  0.0000i    0.0000  -0.0000i    0.0000  -0.0000i   -0.0000  -0.0000i   -0.0000 +  0.0000i  \n",
      "  0.0000  -0.0000i   -0.0000  -0.0000i    0.0000 +  0.0000i    0.0000 +  0.0000i    0.0000  -0.0000i  \n",
      "  0.0000 +  0.0000i    0.0000 +  0.0000i    0.0000  -0.0000i   -0.0000  -0.0000i   -0.0000 +  0.0000i  \n",
      "\n",
      "(:,:, 5) =\n",
      "\n",
      "   1.0e-17 *\n",
      "\n",
      "  0.0995 +  0.6022i    4.4409 +  0.0000i    0.2877 +  0.2640i   -1.5843 +  0.0000i   -0.3872  -0.2136i  \n",
      " -2.5651 +  0.8633i    0.0000 +  0.0000i   -0.0005 +  0.0000i    0.0000 +  0.0000i    0.1152 +  0.0000i  \n",
      " -0.0938  -0.4894i    1.1680 +  0.0000i    0.3062  -0.3263i   -0.2698 +  0.0000i   -0.2123 +  0.1631i  \n",
      " -0.3535 +  1.7708i    0.5138 +  0.0881i   -0.4401 +  1.0559i   -0.5138  -0.0881i   -0.0867 +  0.5903i  \n",
      " -0.0622  -0.1943i    0.4671  -0.1154i    0.0185  -0.1008i   -0.0180 +  0.1154i    0.0438  -0.0312i  \n",
      "\n",
      "\n",
      "(:,:, 1) =\n",
      "\n",
      "   1.0e-17 *\n",
      "\n",
      "  0.0995  -0.6022i    4.4409 +  0.0000i    0.2877  -0.2640i   -1.5843 +  0.0000i   -0.3872 +  0.2136i  \n",
      " -2.5651  -0.8633i    0.0000 +  0.0000i   -0.0005 +  0.0000i    0.0000 +  0.0000i    0.1152 +  0.0000i  \n",
      " -0.0938 +  0.4894i    1.1680 +  0.0000i    0.3062 +  0.3263i   -0.2698 +  0.0000i   -0.2123  -0.1631i  \n",
      " -0.3535  -1.7708i    0.5138  -0.0881i   -0.4401  -1.0559i   -0.5138 +  0.0881i   -0.0867  -0.5903i  \n",
      " -0.0622 +  0.1943i    0.4671 +  0.1154i    0.0185 +  0.1008i   -0.0180  -0.1154i    0.0438 +  0.0312i  \n",
      "\n",
      "(:,:, 2) =\n",
      "\n",
      "  0.0000 +  0.0000i    0.5000  -0.0000i   -0.0000  -0.0000i   -0.0000  -0.0000i   -0.0000 +  0.0000i  \n",
      "  0.0000 +  0.5000i   -0.0000  -0.0000i    0.0000  -0.0000i   -0.0000  -0.0000i   -0.0000  -0.0000i  \n",
      "  0.0000  -0.0000i    0.0000  -0.0000i    0.0000 +  0.0000i   -0.0000  -0.0000i   -0.0000  -0.0000i  \n",
      "  0.0000 +  0.0000i   -0.0000 +  0.0000i    0.0000  -0.0000i    0.0000  -0.0000i    0.0000 +  0.0000i  \n",
      "  0.0000  -0.0000i    0.0000  -0.0000i    0.0000 +  0.0000i   -0.0000 +  0.0000i   -0.0000  -0.0000i  \n",
      "\n",
      "(:,:, 3) =\n",
      "\n",
      "   1.0e-17 *\n",
      "\n",
      "  1.5745 +  0.0000i    4.4409 +  0.0000i   -0.0959 +  0.0000i   -1.1102 +  0.0000i   -1.4786 +  0.0000i  \n",
      " -2.5651 +  0.0000i   -0.0000 +  0.0000i   -0.0005 +  0.0000i   -0.0000 +  0.0000i    0.1152 +  0.0000i  \n",
      "  0.5408 +  0.0000i   -0.3588 +  0.0000i    0.3062 +  0.0000i   -0.7514 +  0.0000i   -0.8470 +  0.0000i  \n",
      "  0.8425 +  0.0000i   -1.1776 +  0.0000i   -0.4401 +  0.0000i    1.1776 +  0.0000i   -1.2827 +  0.0000i  \n",
      "  0.6317 +  0.0000i    0.5075 +  0.0000i    0.4020 +  0.0000i   -1.0626 +  0.0000i   -1.0337 +  0.0000i  \n",
      "\n",
      "(:,:, 4) =\n",
      "\n",
      "  0.0000  -0.0000i    0.5000  -0.0000i   -0.0000 +  0.0000i   -0.0000  -0.0000i   -0.0000  -0.0000i  \n",
      "  0.0000  -0.5000i   -0.0000  -0.0000i    0.0000  -0.0000i   -0.0000  -0.0000i   -0.0000  -0.0000i  \n",
      "  0.0000 +  0.0000i    0.0000  -0.0000i    0.0000  -0.0000i   -0.0000  -0.0000i   -0.0000 +  0.0000i  \n",
      "  0.0000  -0.0000i   -0.0000  -0.0000i    0.0000 +  0.0000i    0.0000 +  0.0000i    0.0000  -0.0000i  \n",
      "  0.0000 +  0.0000i    0.0000 +  0.0000i    0.0000  -0.0000i   -0.0000  -0.0000i   -0.0000 +  0.0000i  \n",
      "\n",
      "(:,:, 5) =\n",
      "\n",
      "   1.0e-17 *\n",
      "\n",
      "  0.0995 +  0.6022i    4.4409 +  0.0000i    0.2877 +  0.2640i   -1.5843 +  0.0000i   -0.3872  -0.2136i  \n",
      " -2.5651 +  0.8633i    0.0000 +  0.0000i   -0.0005 +  0.0000i    0.0000 +  0.0000i    0.1152 +  0.0000i  \n",
      " -0.0938  -0.4894i    1.1680 +  0.0000i    0.3062  -0.3263i   -0.2698 +  0.0000i   -0.2123 +  0.1631i  \n",
      " -0.3535 +  1.7708i    0.5138 +  0.0881i   -0.4401 +  1.0559i   -0.5138  -0.0881i   -0.0867 +  0.5903i  \n",
      " -0.0622  -0.1943i    0.4671  -0.1154i    0.0185  -0.1008i   -0.0180 +  0.1154i    0.0438  -0.0312i  \n",
      "\n"
     ]
    },
    {
     "data": {
      "text/plain": [
       "5×5×5 Array{ComplexF64, 3}:\n",
       "[:, :, 1] =\n",
       "  9.94659e-19-6.02159e-18im  …   -3.8717e-18+2.13557e-18im\n",
       " -2.56508e-17-8.63296e-18im      1.15239e-18+0.0im\n",
       " -9.38156e-19+4.8943e-18im      -2.12346e-18-1.63143e-18im\n",
       " -3.53463e-18-1.77077e-17im     -8.66816e-19-5.90258e-18im\n",
       " -6.22375e-19+1.94301e-18im      4.37794e-19+3.11576e-19im\n",
       "\n",
       "[:, :, 2] =\n",
       " 3.03989e-17+1.46079e-17im  …  -1.74886e-17+1.40937e-18im\n",
       " 2.56508e-17+0.5im             -1.15239e-18-0.0im\n",
       " 1.76589e-18-1.17462e-17im     -6.35831e-18-1.18731e-18im\n",
       " 4.31458e-19+1.0944e-17im       3.96998e-18+3.64799e-18im\n",
       " 2.53589e-18-4.18163e-18im     -4.73062e-18-1.54192e-18im\n",
       "\n",
       "[:, :, 3] =\n",
       "  1.57449e-17+0.0im   4.44089e-17+0.0im  …  -1.47862e-17+0.0im\n",
       " -2.56508e-17+0.0im          -0.0+0.0im      1.15239e-18+0.0im\n",
       "  5.40809e-18+0.0im   -3.5885e-18+0.0im      -8.4697e-18+0.0im\n",
       "   8.4253e-18+0.0im  -1.17757e-17+0.0im     -1.28267e-17+0.0im\n",
       "  6.31652e-18+0.0im    5.0749e-18+0.0im     -1.03368e-17+0.0im\n",
       "\n",
       "[:, :, 4] =\n",
       " 3.03989e-17-1.46079e-17im  …  -1.74886e-17-1.40937e-18im\n",
       " 2.56508e-17-0.5im             -1.15239e-18-0.0im\n",
       " 1.76589e-18+1.17462e-17im     -6.35831e-18+1.18731e-18im\n",
       " 4.31458e-19-1.0944e-17im       3.96998e-18-3.64799e-18im\n",
       " 2.53589e-18+4.18163e-18im     -4.73062e-18+1.54192e-18im\n",
       "\n",
       "[:, :, 5] =\n",
       "  9.94659e-19+6.02159e-18im  …   -3.8717e-18-2.13557e-18im\n",
       " -2.56508e-17+8.63296e-18im      1.15239e-18+0.0im\n",
       " -9.38156e-19-4.8943e-18im      -2.12346e-18+1.63143e-18im\n",
       " -3.53463e-18+1.77077e-17im     -8.66816e-19+5.90258e-18im\n",
       " -6.22375e-19-1.94301e-18im      4.37794e-19-3.11576e-19im"
      ]
     },
     "metadata": {},
     "output_type": "display_data"
    }
   ],
   "source": [
    "CFS_func = V2C_cyl(CFS, \"rzt\")\n",
    "pretty_print_array_matlab_style(CFS_func)\n",
    "CFS_func[:,:,:,2:T] .= 0.0\n",
    "display(CFS_func);"
   ]
  },
  {
   "cell_type": "markdown",
   "id": "caea9356",
   "metadata": {},
   "source": [
    "# Visualize the coefficients for different N"
   ]
  }
 ],
 "metadata": {
  "kernelspec": {
   "display_name": "Julia 1.11.4",
   "language": "julia",
   "name": "julia-1.11"
  },
  "language_info": {
   "file_extension": ".jl",
   "mimetype": "application/julia",
   "name": "julia",
   "version": "1.11.4"
  }
 },
 "nbformat": 4,
 "nbformat_minor": 5
}
