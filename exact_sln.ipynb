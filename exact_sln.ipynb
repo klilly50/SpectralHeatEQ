{
 "cells": [
  {
   "cell_type": "code",
   "execution_count": 8,
   "id": "17c7e8b1",
   "metadata": {},
   "outputs": [
    {
     "data": {
      "text/plain": [
       "5×1 reshape(::StepRangeLen{Float64, Base.TwicePrecision{Float64}, Base.TwicePrecision{Float64}, Int64}, 5, 1) with eltype Float64:\n",
       " -3.141592653589793\n",
       " -1.8849555921538759\n",
       " -0.6283185307179586\n",
       "  0.6283185307179586\n",
       "  1.8849555921538759"
      ]
     },
     "metadata": {},
     "output_type": "display_data"
    },
    {
     "data": {
      "text/plain": [
       "5-element Vector{Float64}:\n",
       " -1.0\n",
       " -0.7071067811865475\n",
       "  6.123233995736766e-17\n",
       "  0.7071067811865476\n",
       "  1.0"
      ]
     },
     "metadata": {},
     "output_type": "display_data"
    },
    {
     "data": {
      "text/plain": [
       "5-element Vector{Float64}:\n",
       " -1.0\n",
       " -0.7071067811865475\n",
       "  6.123233995736766e-17\n",
       "  0.7071067811865476\n",
       "  1.0"
      ]
     },
     "metadata": {},
     "output_type": "display_data"
    }
   ],
   "source": [
    "# setting the N value\n",
    "\n",
    "N = 5;\n",
    "\n",
    "# points in t direction\n",
    "# trigpts returns N equally spaced points on an interval -1 to 1\n",
    "# range is kind of like linspace! the length\n",
    "\n",
    "t = pi* range(-1,1, length=N+1)[1:end-1];\n",
    "t = reshape(t,:,1)\n",
    "\n",
    "\n",
    "# chebpts returns chebyshev points of the second kind\n",
    "# generates N+1 cheb pts in the interval [-1, 1], so includes endpoints\n",
    "# points are clustered near the endpoints\n",
    "\n",
    "r = [cos((pi*k)/(N-1)) for k in (N-1):-1:0];\n",
    "z = [cos((pi*k)/(N-1)) for k in (N-1):-1:0];\n",
    "\n",
    "\n",
    "# going from N-1 to 0 ensures that endpoints are included bc when you \n",
    "#plug in (N-1) and 0 into the formula, you get the endpoints included -1 and 1 regardless of N\n",
    "# cosine part is just a formula for cheb pts of second kind\n",
    "\n",
    "display(t)\n",
    "display(z)\n",
    "display(r)"
   ]
  },
  {
   "cell_type": "code",
   "execution_count": 9,
   "id": "c016c20f",
   "metadata": {},
   "outputs": [
    {
     "data": {
      "text/plain": [
       "5×5 Matrix{Float64}:\n",
       " -1.0          -1.0          -1.0          -1.0          -1.0\n",
       " -0.707107     -0.707107     -0.707107     -0.707107     -0.707107\n",
       "  6.12323e-17   6.12323e-17   6.12323e-17   6.12323e-17   6.12323e-17\n",
       "  0.707107      0.707107      0.707107      0.707107      0.707107\n",
       "  1.0           1.0           1.0           1.0           1.0"
      ]
     },
     "metadata": {},
     "output_type": "display_data"
    },
    {
     "data": {
      "text/plain": [
       "5×5 Matrix{Float64}:\n",
       " -1.0  -0.707107  6.12323e-17  0.707107  1.0\n",
       " -1.0  -0.707107  6.12323e-17  0.707107  1.0\n",
       " -1.0  -0.707107  6.12323e-17  0.707107  1.0\n",
       " -1.0  -0.707107  6.12323e-17  0.707107  1.0\n",
       " -1.0  -0.707107  6.12323e-17  0.707107  1.0"
      ]
     },
     "metadata": {},
     "output_type": "display_data"
    }
   ],
   "source": [
    "# now to make the grid! this was a bit incorrect because we need the different layers? \n",
    "#I found a package that works better!\n",
    "\n",
    "# tt = \n",
    "rr = hcat([r for _ in 1:N]...)\n",
    "zz = vcat([transpose(z) for _ in 1:N]...)\n",
    " \n",
    "display(rr)\n",
    "display(zz)"
   ]
  },
  {
   "cell_type": "code",
   "execution_count": 10,
   "id": "c61c2926",
   "metadata": {},
   "outputs": [
    {
     "data": {
      "text/plain": [
       "5×5×5×1 Array{Float64, 4}:\n",
       "[:, :, 1, 1] =\n",
       " -1.0          -1.0          -1.0          -1.0          -1.0\n",
       " -0.707107     -0.707107     -0.707107     -0.707107     -0.707107\n",
       "  6.12323e-17   6.12323e-17   6.12323e-17   6.12323e-17   6.12323e-17\n",
       "  0.707107      0.707107      0.707107      0.707107      0.707107\n",
       "  1.0           1.0           1.0           1.0           1.0\n",
       "\n",
       "[:, :, 2, 1] =\n",
       " -1.0          -1.0          -1.0          -1.0          -1.0\n",
       " -0.707107     -0.707107     -0.707107     -0.707107     -0.707107\n",
       "  6.12323e-17   6.12323e-17   6.12323e-17   6.12323e-17   6.12323e-17\n",
       "  0.707107      0.707107      0.707107      0.707107      0.707107\n",
       "  1.0           1.0           1.0           1.0           1.0\n",
       "\n",
       "[:, :, 3, 1] =\n",
       " -1.0          -1.0          -1.0          -1.0          -1.0\n",
       " -0.707107     -0.707107     -0.707107     -0.707107     -0.707107\n",
       "  6.12323e-17   6.12323e-17   6.12323e-17   6.12323e-17   6.12323e-17\n",
       "  0.707107      0.707107      0.707107      0.707107      0.707107\n",
       "  1.0           1.0           1.0           1.0           1.0\n",
       "\n",
       "[:, :, 4, 1] =\n",
       " -1.0          -1.0          -1.0          -1.0          -1.0\n",
       " -0.707107     -0.707107     -0.707107     -0.707107     -0.707107\n",
       "  6.12323e-17   6.12323e-17   6.12323e-17   6.12323e-17   6.12323e-17\n",
       "  0.707107      0.707107      0.707107      0.707107      0.707107\n",
       "  1.0           1.0           1.0           1.0           1.0\n",
       "\n",
       "[:, :, 5, 1] =\n",
       " -1.0          -1.0          -1.0          -1.0          -1.0\n",
       " -0.707107     -0.707107     -0.707107     -0.707107     -0.707107\n",
       "  6.12323e-17   6.12323e-17   6.12323e-17   6.12323e-17   6.12323e-17\n",
       "  0.707107      0.707107      0.707107      0.707107      0.707107\n",
       "  1.0           1.0           1.0           1.0           1.0"
      ]
     },
     "metadata": {},
     "output_type": "display_data"
    },
    {
     "data": {
      "text/plain": [
       "5×5×5×1 Array{Float64, 4}:\n",
       "[:, :, 1, 1] =\n",
       " -1.0  -0.707107  6.12323e-17  0.707107  1.0\n",
       " -1.0  -0.707107  6.12323e-17  0.707107  1.0\n",
       " -1.0  -0.707107  6.12323e-17  0.707107  1.0\n",
       " -1.0  -0.707107  6.12323e-17  0.707107  1.0\n",
       " -1.0  -0.707107  6.12323e-17  0.707107  1.0\n",
       "\n",
       "[:, :, 2, 1] =\n",
       " -1.0  -0.707107  6.12323e-17  0.707107  1.0\n",
       " -1.0  -0.707107  6.12323e-17  0.707107  1.0\n",
       " -1.0  -0.707107  6.12323e-17  0.707107  1.0\n",
       " -1.0  -0.707107  6.12323e-17  0.707107  1.0\n",
       " -1.0  -0.707107  6.12323e-17  0.707107  1.0\n",
       "\n",
       "[:, :, 3, 1] =\n",
       " -1.0  -0.707107  6.12323e-17  0.707107  1.0\n",
       " -1.0  -0.707107  6.12323e-17  0.707107  1.0\n",
       " -1.0  -0.707107  6.12323e-17  0.707107  1.0\n",
       " -1.0  -0.707107  6.12323e-17  0.707107  1.0\n",
       " -1.0  -0.707107  6.12323e-17  0.707107  1.0\n",
       "\n",
       "[:, :, 4, 1] =\n",
       " -1.0  -0.707107  6.12323e-17  0.707107  1.0\n",
       " -1.0  -0.707107  6.12323e-17  0.707107  1.0\n",
       " -1.0  -0.707107  6.12323e-17  0.707107  1.0\n",
       " -1.0  -0.707107  6.12323e-17  0.707107  1.0\n",
       " -1.0  -0.707107  6.12323e-17  0.707107  1.0\n",
       "\n",
       "[:, :, 5, 1] =\n",
       " -1.0  -0.707107  6.12323e-17  0.707107  1.0\n",
       " -1.0  -0.707107  6.12323e-17  0.707107  1.0\n",
       " -1.0  -0.707107  6.12323e-17  0.707107  1.0\n",
       " -1.0  -0.707107  6.12323e-17  0.707107  1.0\n",
       " -1.0  -0.707107  6.12323e-17  0.707107  1.0"
      ]
     },
     "metadata": {},
     "output_type": "display_data"
    },
    {
     "data": {
      "text/plain": [
       "5×5×5×1 Array{Float64, 4}:\n",
       "[:, :, 1, 1] =\n",
       " -3.14159  -3.14159  -3.14159  -3.14159  -3.14159\n",
       " -3.14159  -3.14159  -3.14159  -3.14159  -3.14159\n",
       " -3.14159  -3.14159  -3.14159  -3.14159  -3.14159\n",
       " -3.14159  -3.14159  -3.14159  -3.14159  -3.14159\n",
       " -3.14159  -3.14159  -3.14159  -3.14159  -3.14159\n",
       "\n",
       "[:, :, 2, 1] =\n",
       " -1.88496  -1.88496  -1.88496  -1.88496  -1.88496\n",
       " -1.88496  -1.88496  -1.88496  -1.88496  -1.88496\n",
       " -1.88496  -1.88496  -1.88496  -1.88496  -1.88496\n",
       " -1.88496  -1.88496  -1.88496  -1.88496  -1.88496\n",
       " -1.88496  -1.88496  -1.88496  -1.88496  -1.88496\n",
       "\n",
       "[:, :, 3, 1] =\n",
       " -0.628319  -0.628319  -0.628319  -0.628319  -0.628319\n",
       " -0.628319  -0.628319  -0.628319  -0.628319  -0.628319\n",
       " -0.628319  -0.628319  -0.628319  -0.628319  -0.628319\n",
       " -0.628319  -0.628319  -0.628319  -0.628319  -0.628319\n",
       " -0.628319  -0.628319  -0.628319  -0.628319  -0.628319\n",
       "\n",
       "[:, :, 4, 1] =\n",
       " 0.628319  0.628319  0.628319  0.628319  0.628319\n",
       " 0.628319  0.628319  0.628319  0.628319  0.628319\n",
       " 0.628319  0.628319  0.628319  0.628319  0.628319\n",
       " 0.628319  0.628319  0.628319  0.628319  0.628319\n",
       " 0.628319  0.628319  0.628319  0.628319  0.628319\n",
       "\n",
       "[:, :, 5, 1] =\n",
       " 1.88496  1.88496  1.88496  1.88496  1.88496\n",
       " 1.88496  1.88496  1.88496  1.88496  1.88496\n",
       " 1.88496  1.88496  1.88496  1.88496  1.88496\n",
       " 1.88496  1.88496  1.88496  1.88496  1.88496\n",
       " 1.88496  1.88496  1.88496  1.88496  1.88496"
      ]
     },
     "metadata": {},
     "output_type": "display_data"
    }
   ],
   "source": [
    "# same row vector vertical stacked\n",
    "rr = [ri for ri in r, zi in z, ti in t]\n",
    "\n",
    "# same column vector horizontal stacked\n",
    "zz = [zi for ri in r, zi in z, ti in t]\n",
    "\n",
    "# every entry in a matrix the same, but each layer has different value\n",
    "tt = [ti for ri in r, zi in z, ti in t]\n",
    "\n",
    "display(rr)\n",
    "display(zz)\n",
    "display(tt)\n"
   ]
  },
  {
   "cell_type": "code",
   "execution_count": 11,
   "id": "a3463d73",
   "metadata": {},
   "outputs": [
    {
     "name": "stdout",
     "output_type": "stream",
     "text": [
      "C01:\n"
     ]
    },
    {
     "data": {
      "text/plain": [
       "5×5 SparseMatrixCSC{Float64, Int64} with 8 stored entries:\n",
       " 1.0   ⋅   -0.5    ⋅     ⋅ \n",
       "  ⋅   0.5    ⋅   -0.5    ⋅ \n",
       "  ⋅    ⋅    0.5    ⋅   -0.5\n",
       "  ⋅    ⋅     ⋅    0.5    ⋅ \n",
       "  ⋅    ⋅     ⋅     ⋅    0.5"
      ]
     },
     "metadata": {},
     "output_type": "display_data"
    },
    {
     "name": "stdout",
     "output_type": "stream",
     "text": [
      "C12:\n"
     ]
    },
    {
     "data": {
      "text/plain": [
       "5×5 SparseMatrixCSC{Float64, Int64} with 8 stored entries:\n",
       " 1.0   ⋅   -0.333333    ⋅      ⋅ \n",
       "  ⋅   0.5    ⋅        -0.25    ⋅ \n",
       "  ⋅    ⋅    0.333333    ⋅    -0.2\n",
       "  ⋅    ⋅     ⋅         0.25    ⋅ \n",
       "  ⋅    ⋅     ⋅          ⋅     0.2"
      ]
     },
     "metadata": {},
     "output_type": "display_data"
    },
    {
     "name": "stdout",
     "output_type": "stream",
     "text": [
      "C02:\n"
     ]
    },
    {
     "data": {
      "text/plain": [
       "5×5 SparseMatrixCSC{Float64, Int64} with 9 stored entries:\n",
       " 1.0   ⋅    -0.5         ⋅      0.1\n",
       "  ⋅   0.25    ⋅        -0.25     ⋅ \n",
       "  ⋅    ⋅     0.166667    ⋅     -0.2\n",
       "  ⋅    ⋅      ⋅         0.125    ⋅ \n",
       "  ⋅    ⋅      ⋅          ⋅      0.1"
      ]
     },
     "metadata": {},
     "output_type": "display_data"
    },
    {
     "name": "stdout",
     "output_type": "stream",
     "text": [
      "D1: \n"
     ]
    },
    {
     "data": {
      "text/plain": [
       "5×5 SparseMatrixCSC{Int64, Int64} with 4 stored entries:\n",
       " ⋅  1  ⋅  ⋅  ⋅\n",
       " ⋅  ⋅  2  ⋅  ⋅\n",
       " ⋅  ⋅  ⋅  3  ⋅\n",
       " ⋅  ⋅  ⋅  ⋅  4\n",
       " ⋅  ⋅  ⋅  ⋅  ⋅"
      ]
     },
     "metadata": {},
     "output_type": "display_data"
    },
    {
     "name": "stdout",
     "output_type": "stream",
     "text": [
      "D2: \n"
     ]
    },
    {
     "data": {
      "text/plain": [
       "5×5 SparseMatrixCSC{Int64, Int64} with 3 stored entries:\n",
       " ⋅  ⋅  4  ⋅  ⋅\n",
       " ⋅  ⋅  ⋅  6  ⋅\n",
       " ⋅  ⋅  ⋅  ⋅  8\n",
       " ⋅  ⋅  ⋅  ⋅  ⋅\n",
       " ⋅  ⋅  ⋅  ⋅  ⋅"
      ]
     },
     "metadata": {},
     "output_type": "display_data"
    },
    {
     "name": "stdout",
     "output_type": "stream",
     "text": [
      "D0: \n"
     ]
    },
    {
     "data": {
      "text/plain": [
       "5×5 Matrix{Float64}:\n",
       " 0.0  1.0  0.0  3.0  0.0\n",
       " 0.0  0.0  4.0  0.0  8.0\n",
       " 0.0  0.0  0.0  6.0  0.0\n",
       " 0.0  0.0  0.0  0.0  8.0\n",
       " 0.0  0.0  0.0  0.0  0.0"
      ]
     },
     "metadata": {},
     "output_type": "display_data"
    },
    {
     "name": "stdout",
     "output_type": "stream",
     "text": [
      "R0:\n"
     ]
    },
    {
     "data": {
      "text/plain": [
       "5×5 SparseMatrixCSC{Float64, Int64} with 8 stored entries:\n",
       "  ⋅   0.5   ⋅    ⋅    ⋅ \n",
       " 1.0   ⋅   0.5   ⋅    ⋅ \n",
       "  ⋅   0.5   ⋅   0.5   ⋅ \n",
       "  ⋅    ⋅   0.5   ⋅   0.5\n",
       "  ⋅    ⋅    ⋅   0.5   ⋅ "
      ]
     },
     "metadata": {},
     "output_type": "display_data"
    },
    {
     "name": "stdout",
     "output_type": "stream",
     "text": [
      "R2:\n"
     ]
    },
    {
     "data": {
      "text/plain": [
       "5×5 SparseMatrixCSC{Float64, Int64} with 8 stored entries:\n",
       "  ⋅    0.666667   ⋅      ⋅    ⋅ \n",
       " 0.25   ⋅        0.625   ⋅    ⋅ \n",
       "  ⋅    0.333333   ⋅     0.6   ⋅ \n",
       "  ⋅     ⋅        0.375   ⋅   0.583333\n",
       "  ⋅     ⋅         ⋅     0.4   ⋅ "
      ]
     },
     "metadata": {},
     "output_type": "display_data"
    },
    {
     "name": "stdout",
     "output_type": "stream",
     "text": [
      "R1:\n"
     ]
    },
    {
     "data": {
      "text/plain": [
       "5×5 Matrix{Float64}:\n",
       " 0.0  0.5  0.0  0.0   0.0\n",
       " 0.5  0.0  0.5  0.0  -0.166667\n",
       " 0.0  0.5  0.0  0.5   0.0\n",
       " 0.0  0.0  0.5  0.0   0.166667\n",
       " 0.0  0.0  0.0  0.5   0.0"
      ]
     },
     "metadata": {},
     "output_type": "display_data"
    },
    {
     "name": "stdout",
     "output_type": "stream",
     "text": [
      "A:\n"
     ]
    },
    {
     "data": {
      "text/plain": [
       "5×5 SparseMatrixCSC{Float64, Int64} with 8 stored entries:\n",
       "  ⋅    ⋅    1.33333    ⋅     2.66667\n",
       "  ⋅   0.25   ⋅        2.625   ⋅ \n",
       "  ⋅    ⋅    0.666667   ⋅     3.73333\n",
       "  ⋅    ⋅     ⋅        1.125   ⋅ \n",
       "  ⋅    ⋅     ⋅         ⋅     1.6"
      ]
     },
     "metadata": {},
     "output_type": "display_data"
    },
    {
     "name": "stdout",
     "output_type": "stream",
     "text": [
      "coF:\n"
     ]
    },
    {
     "data": {
      "text/plain": [
       "5×5 SparseMatrixCSC{Float64, Int64} with 12 stored entries:\n",
       " 0.166667    ⋅       -0.0138889    ⋅         -0.0666667\n",
       "  ⋅         0.09375    ⋅         -0.046875     ⋅ \n",
       " 0.0833333   ⋅        0.0305556    ⋅         -0.0433333\n",
       "  ⋅         0.03125    ⋅          0.0260417    ⋅ \n",
       "  ⋅          ⋅        0.025        ⋅         -0.00666667"
      ]
     },
     "metadata": {},
     "output_type": "display_data"
    }
   ],
   "source": [
    "# get the matrices we want: C02, D2, A, coF\n",
    "using LinearAlgebra, SparseArrays\n",
    "\n",
    "# C01: Convert Chebyshev-T (T) coefficients to Chebyshev-U (U)\n",
    "C01 = spdiagm(0 => 0.5*ones(N), 2 => -0.5*ones(N-2))\n",
    "C01[1,1] = 1.0\n",
    "println(\"C01:\")\n",
    "display(C01)\n",
    "# C12: Convert Chebyshev-U to C^2, the continuous function space\n",
    "K_1 = 1.0 ./ (1:N)\n",
    "K_2 = 1.0 ./ (3:N)\n",
    "C12 = spdiagm(0 => K_1, 2 => -K_2)\n",
    "println(\"C12:\")\n",
    "display(C12)\n",
    "# C02: Convert Chebyshev-T to C^2 (It's C01 * C12)\n",
    "C02 = C01 * C12\n",
    "println(\"C02:\")\n",
    "display(C02)\n",
    "\n",
    "# D1: Differentiate Chebyshev-T and convert to Chebyshev-U\n",
    "D1 = spdiagm(1 => 1:N-1)\n",
    "println(\"D1: \")\n",
    "display(D1)\n",
    "# D2: Differentiate Chebyshev-T twice and convert to C²\n",
    "D2 = spdiagm(2 => 2 .* (2:N-1))\n",
    "println(\"D2: \")\n",
    "display(D2)\n",
    "# D0: Differentiate Chebyshev-T once\n",
    "D0 = C01 \\ D1\n",
    "println(\"D0: \")\n",
    "display(D0)\n",
    "\n",
    "# R0: Multiply Cheb-T by x\n",
    "R0 = spdiagm(-1 => 0.5*ones(N-1), 1 => 0.5*ones(N-1))\n",
    "R0[2,1] = 1.0\n",
    "println(\"R0:\")\n",
    "display(R0)\n",
    "# R2: Multiply in C² space\n",
    "denom = 4:2:2*N+2\n",
    "K_sub  = ((1:N) ./ denom)[1:N-1]\n",
    "K_super = ((3:N+2) ./ denom[1:N])[2:N]\n",
    "R2 = spdiagm(-1 => K_sub, 1 => K_super)\n",
    "println(\"R2:\")\n",
    "display(R2)\n",
    "# R1: Multiply in Cheb-U basis\n",
    "R1 = C12 \\ R2 * C12\n",
    "println(\"R1:\")\n",
    "display(R1)\n",
    "\n",
    "# A: Laplacian operator\n",
    "A = R2 * R2 * D2 + R2 * C12 * D1\n",
    "println(\"A:\")\n",
    "display(A)\n",
    "\n",
    "# coF: Laplacian multiplier\n",
    "coF = R2 * R2 * C02\n",
    "println(\"coF:\")\n",
    "display(coF)"
   ]
  },
  {
   "cell_type": "code",
   "execution_count": 23,
   "id": "44ef8527",
   "metadata": {},
   "outputs": [
    {
     "data": {
      "text/plain": [
       "5×5×5×1 Array{Float64, 4}:\n",
       "[:, :, 1, 1] =\n",
       " 1.0  0.707107   6.12323e-17  -0.707107  -1.0\n",
       " 1.0  0.707107   2.53633e-17  -0.707107  -1.0\n",
       " 1.0  0.707107  -6.12323e-17  -0.707107  -1.0\n",
       " 1.0  0.707107  -1.47828e-16  -0.707107  -1.0\n",
       " 1.0  0.707107  -1.83697e-16  -0.707107  -1.0\n",
       "\n",
       "[:, :, 2, 1] =\n",
       "  1.26007    1.16956    0.951057      0.732549   0.64204\n",
       "  0.981516   0.891007   0.672499      0.45399    0.363482\n",
       "  0.309017   0.218508  -7.71572e-17  -0.218508  -0.309017\n",
       " -0.363482  -0.45399   -0.672499     -0.891007  -0.981516\n",
       " -0.64204   -0.732549  -0.951057     -1.16956   -1.26007\n",
       "\n",
       "[:, :, 3, 1] =\n",
       " -0.221232   0.0157238   0.587785      1.15985    1.3968\n",
       " -0.39339   -0.156434    0.415627      0.987688   1.22464\n",
       " -0.809017  -0.572061    1.35465e-17   0.572061   0.809017\n",
       " -1.22464   -0.987688   -0.415627      0.156434   0.39339\n",
       " -1.3968    -1.15985    -0.587785     -0.0157238  0.221232\n",
       "\n",
       "[:, :, 4, 1] =\n",
       " -1.3968    -1.15985    -0.587785     -0.0157238  0.221232\n",
       " -1.22464   -0.987688   -0.415627      0.156434   0.39339\n",
       " -0.809017  -0.572061    8.55295e-17   0.572061   0.809017\n",
       " -0.39339   -0.156434    0.415627      0.987688   1.22464\n",
       " -0.221232   0.0157238   0.587785      1.15985    1.3968\n",
       "\n",
       "[:, :, 5, 1] =\n",
       " -0.64204   -0.732549  -0.951057     -1.16956   -1.26007\n",
       " -0.363482  -0.45399   -0.672499     -0.891007  -0.981516\n",
       "  0.309017   0.218508   3.93136e-17  -0.218508  -0.309017\n",
       "  0.981516   0.891007   0.672499      0.45399    0.363482\n",
       "  1.26007    1.16956    0.951057      0.732549   0.64204"
      ]
     },
     "metadata": {},
     "output_type": "display_data"
    }
   ],
   "source": [
    "# dummy test function\n",
    "finit(r, z, θ, t) = r .* sin.(θ) .+ z .* cos.(θ)\n",
    "\n",
    "# initialize CFS array to hold function values at t = 0\n",
    "CFS = zeros(size(rr))\n",
    "\n",
    "# Evaluate initial condition on the full (r, z, θ) grid\n",
    "for j in 1:N\n",
    "    CFS[:, j, :] = finit(rr[:,j,:],zz[:,j,:], tt[:,j,:], 0)\n",
    "end\n",
    "\n",
    "display(CFS);"
   ]
  },
  {
   "cell_type": "code",
   "execution_count": 7,
   "id": "9532849d",
   "metadata": {},
   "outputs": [
    {
     "ename": "LoadError",
     "evalue": "ArgumentError: Package FFTW not found in current path.\n- Run `import Pkg; Pkg.add(\"FFTW\")` to install the FFTW package.",
     "output_type": "error",
     "traceback": [
      "ArgumentError: Package FFTW not found in current path.\n- Run `import Pkg; Pkg.add(\"FFTW\")` to install the FFTW package.",
      "",
      "Stacktrace:",
      " [1] macro expansion",
      "   @ ./loading.jl:2296 [inlined]",
      " [2] macro expansion",
      "   @ ./lock.jl:273 [inlined]",
      " [3] __require(into::Module, mod::Symbol)",
      "   @ Base ./loading.jl:2271",
      " [4] #invoke_in_world#3",
      "   @ ./essentials.jl:1089 [inlined]",
      " [5] invoke_in_world",
      "   @ ./essentials.jl:1086 [inlined]",
      " [6] require(into::Module, mod::Symbol)",
      "   @ Base ./loading.jl:2260"
     ]
    }
   ],
   "source": [
    "# replicate V2C_cyl function\n",
    "using FFTW\n",
    "using LinearAlgebra\n",
    "\n",
    "function V2C_cyl(vals::Array, a::AbstractString)\n",
    "    # julia uses mapslices with dims=d, which works directly on a specific dimension so no need to manually reshape like in MATLAB\n",
    "\n",
    "    dim = ndims(vals)\n",
    "    sz = size(vals)\n",
    "    \n",
    "    # check that length(a) = # of dimensions\n",
    "    @assert length(a) == dim \"Length of 'a' must match number of dimensions in vals.\"\n",
    "\n",
    "    # loop through dims, deciding which transform to apply\n",
    "    for d in 1:dim\n",
    "        # if t, FFT along dim\n",
    "        if a[d] == 't' || a[d] == 'T'\n",
    "            vals = mapslices(x -> fft(x) / length(x), vals; dims=d)\n",
    "        elseif a[d] == '0'\n",
    "            # do nothing\n",
    "            continue\n",
    "        # otherwise dct-ii along dim\n",
    "        else\n",
    "            vals = mapslices(x -> dct(x, 2), vals; dims=d)\n",
    "        end\n",
    "\n",
    "        # julia uses mapslices, which works directly on a specific dimension so no need to reshape and permute dimensions like in MATLAB\n",
    "    end\n",
    "\n",
    "    return vals\n",
    "end"
   ]
  }
 ],
 "metadata": {
  "kernelspec": {
   "display_name": "Julia 1.11.4",
   "language": "julia",
   "name": "julia-1.11"
  },
  "language_info": {
   "file_extension": ".jl",
   "mimetype": "application/julia",
   "name": "julia",
   "version": "1.11.4"
  }
 },
 "nbformat": 4,
 "nbformat_minor": 5
}
