{
 "cells": [
  {
   "cell_type": "code",
   "execution_count": 6,
   "id": "318be522",
   "metadata": {},
   "outputs": [
    {
     "data": {
      "text/plain": [
       "pretty_print_4Darray_matlab_style (generic function with 1 method)"
      ]
     },
     "execution_count": 6,
     "metadata": {},
     "output_type": "execute_result"
    }
   ],
   "source": [
    "include(\"exact_sln_function.jl\")\n",
    "include(\"functions.jl\")"
   ]
  },
  {
   "cell_type": "markdown",
   "id": "97f9fca3",
   "metadata": {},
   "source": [
    "# Initial Condition"
   ]
  },
  {
   "cell_type": "code",
   "execution_count": null,
   "id": "584fd63d",
   "metadata": {},
   "outputs": [],
   "source": [
    "using SpecialFunctions\n",
    "\n",
    "w54 = 18.98013387517992112  # 4th root of the J-Bessel function of order 5\n",
    "w33 = 13.0152007216984344   # 3rd root of the J-Bessel function of order 5\n",
    "q1 = 3                      # Oscillation in z.\n",
    "q2 = 2\n",
    "\n",
    "u(r, z, th, t) = 10*exp(-((pi*q1)^2 + w33^2)*t) .* sin.(q1*pi*z) .* besselj.(3, w33 .* r) .* sin.(3*th) .+ exp(-((pi*q2)^2 + w54^2)*t) .* sin.(q2*pi*z) .* besselj.(5, w54 .* r) .* cos.(5*th);\n",
    "finit(r,z,th,t) = u(r,z,th,0);"
   ]
  },
  {
   "cell_type": "markdown",
   "id": "85c9ad4c",
   "metadata": {},
   "source": [
    "# Function Testing"
   ]
  },
  {
   "cell_type": "code",
   "execution_count": null,
   "id": "b283bf89",
   "metadata": {},
   "outputs": [],
   "source": [
    "N = 5\n",
    "\n",
    "T = 10\n",
    "\n",
    "alph = 1e-9\n",
    "\n",
    "@time sln = exactsln(finit,N,T,alph);\n",
    "\n",
    "pretty_print_4Darray_matlab_style(sln)"
   ]
  },
  {
   "cell_type": "markdown",
   "id": "9614a085",
   "metadata": {},
   "source": [
    "# Errors!"
   ]
  },
  {
   "cell_type": "code",
   "execution_count": null,
   "id": "92a9ba51",
   "metadata": {},
   "outputs": [],
   "source": [
    "sln = func2grid(f,Sp_disc(2),'rzt');\n",
    "ERROR(2,1) = norm(exact(:)-reshape(TEST(:,:,:,T),Sp_disc(2)^3,1),inf)/norm(exact(:),inf);"
   ]
  }
 ],
 "metadata": {
  "kernelspec": {
   "display_name": "Julia 1.11.4",
   "language": "julia",
   "name": "julia-1.11"
  },
  "language_info": {
   "file_extension": ".jl",
   "mimetype": "application/julia",
   "name": "julia",
   "version": "1.11.4"
  }
 },
 "nbformat": 4,
 "nbformat_minor": 5
}
